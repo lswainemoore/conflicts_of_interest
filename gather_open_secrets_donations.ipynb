{
 "cells": [
  {
   "cell_type": "markdown",
   "metadata": {},
   "source": [
    "# Gather donations information via OpenSecrets API\n",
    "### Big picture:\n",
    "For every legislator in listen given within https://github.com/unitedstates/congress-legislators, use OpenSecrets API endpoints to get information about sector level and top 10 industry level donations."
   ]
  },
  {
   "cell_type": "markdown",
   "metadata": {},
   "source": [
    "## Basic setup"
   ]
  },
  {
   "cell_type": "code",
   "execution_count": null,
   "metadata": {
    "collapsed": false
   },
   "outputs": [],
   "source": [
    "import requests\n",
    "import json\n",
    "import yaml\n",
    "import us\n",
    "from tqdm import tqdm\n",
    "from keys import opensecrets_key"
   ]
  },
  {
   "cell_type": "markdown",
   "metadata": {},
   "source": [
    "## Load data"
   ]
  },
  {
   "cell_type": "code",
   "execution_count": null,
   "metadata": {
    "collapsed": true
   },
   "outputs": [],
   "source": [
    "with open(\"../data/congress-legislators/alternate_formats/legislators-current.json\") as f:\n",
    "    legislators = json.load(f)"
   ]
  },
  {
   "cell_type": "code",
   "execution_count": null,
   "metadata": {
    "collapsed": false
   },
   "outputs": [],
   "source": [
    "len(legislators)"
   ]
  },
  {
   "cell_type": "markdown",
   "metadata": {},
   "source": [
    "## Gather industry Data"
   ]
  },
  {
   "cell_type": "code",
   "execution_count": null,
   "metadata": {
    "collapsed": true
   },
   "outputs": [],
   "source": [
    "donations_industry = {}"
   ]
  },
  {
   "cell_type": "code",
   "execution_count": null,
   "metadata": {
    "collapsed": false,
    "scrolled": true
   },
   "outputs": [],
   "source": [
    "for l in tqdm(legislators):\n",
    "    try:\n",
    "        opensecrets_id = l[\"id\"][\"opensecrets\"]\n",
    "        if opensecrets_id not in donations_industry.keys():\n",
    "            p = {\"method\":\"candIndustry\",\"cid\":opensecrets_id,\"cycle\":'2016',\"apikey\":opensecrets_key,\"output\":\"json\"}\n",
    "            j = json.loads(requests.get(\"http://www.opensecrets.org/api/\",params=p).text)\n",
    "            donations_industry[opensecrets_id] = j\n",
    "    \n",
    "    # this is literally just lucas strange\n",
    "    except KeyError:\n",
    "        pass"
   ]
  },
  {
   "cell_type": "code",
   "execution_count": null,
   "metadata": {
    "collapsed": false,
    "scrolled": true
   },
   "outputs": [],
   "source": [
    "len(donations_industry.items())"
   ]
  },
  {
   "cell_type": "markdown",
   "metadata": {},
   "source": [
    "#### We get rate limited after 200 requests, so needs to be run in several chunks. Cell above won't make repeat requests.\n",
    "Below is code for writing to and retrieving from a temp file in these instances."
   ]
  },
  {
   "cell_type": "code",
   "execution_count": null,
   "metadata": {
    "collapsed": true
   },
   "outputs": [],
   "source": [
    "with open(\"tmp/TEMP_donations_industry\", 'w') as f:\n",
    "    json.dump(donations_industry, f)"
   ]
  },
  {
   "cell_type": "code",
   "execution_count": null,
   "metadata": {
    "collapsed": false
   },
   "outputs": [],
   "source": [
    "with open(\"tmp/TEMP_donations_industry\", 'r') as f:\n",
    "    donations_industry = json.load(f)"
   ]
  },
  {
   "cell_type": "markdown",
   "metadata": {},
   "source": [
    "## Write finished sector dataset"
   ]
  },
  {
   "cell_type": "code",
   "execution_count": null,
   "metadata": {
    "collapsed": true
   },
   "outputs": [],
   "source": [
    "with open(\"../data/donations/donations_industry.json\", 'w') as f:\n",
    "    json.dump(donations_industry, f)"
   ]
  },
  {
   "cell_type": "markdown",
   "metadata": {},
   "source": [
    "## Gather sector Data"
   ]
  },
  {
   "cell_type": "code",
   "execution_count": null,
   "metadata": {
    "collapsed": true
   },
   "outputs": [],
   "source": [
    "donations_sector = {}"
   ]
  },
  {
   "cell_type": "code",
   "execution_count": null,
   "metadata": {
    "collapsed": false
   },
   "outputs": [],
   "source": [
    "for l in tqdm(legislators):\n",
    "    try:\n",
    "        opensecrets_id = l[\"id\"][\"opensecrets\"]\n",
    "        if opensecrets_id not in donations_sector.keys():\n",
    "            p = {\"method\":\"candSector\",\"cid\":opensecrets_id,\"cycle\":'2016',\"apikey\":opensecrets_key,\"output\":\"json\"}\n",
    "            j = json.loads(requests.get(\"http://www.opensecrets.org/api/\",params=p).text)\n",
    "            donations_sector[opensecrets_id] = j\n",
    "\n",
    "    # this is literally just lucas strange\n",
    "    except KeyError:\n",
    "        pass"
   ]
  },
  {
   "cell_type": "code",
   "execution_count": null,
   "metadata": {
    "collapsed": false,
    "scrolled": true
   },
   "outputs": [],
   "source": [
    "len(donations_sector)"
   ]
  },
  {
   "cell_type": "markdown",
   "metadata": {},
   "source": [
    "#### We get rate limited after 200 requests, so needs to be run in several chunks. Cell above won't make repeat requests.\n",
    "Below is code for writing to and retrieving from a temp file in these instances."
   ]
  },
  {
   "cell_type": "code",
   "execution_count": null,
   "metadata": {
    "collapsed": true
   },
   "outputs": [],
   "source": [
    "with open(\"tmp/TEMP_donations_sector\", 'w') as f:\n",
    "    json.dump(donations_sector, f)"
   ]
  },
  {
   "cell_type": "code",
   "execution_count": null,
   "metadata": {
    "collapsed": true
   },
   "outputs": [],
   "source": [
    "with open(\"tmp/TEMP_donations_sector\", 'r') as f:\n",
    "    donations_sector = json.load(f)"
   ]
  },
  {
   "cell_type": "markdown",
   "metadata": {},
   "source": [
    "## Write finished sector dataset"
   ]
  },
  {
   "cell_type": "code",
   "execution_count": null,
   "metadata": {
    "collapsed": true
   },
   "outputs": [],
   "source": [
    "with open(\"../data/donations/donations_sector.json\", 'w') as f:\n",
    "    json.dump(donations_sector, f)"
   ]
  },
  {
   "cell_type": "markdown",
   "metadata": {},
   "source": [
    "## Originally tried to get list of legislators from OpenSecrets itself\n",
    "#### But as it turns out, relevant endpoint only given 114th Congress.\n",
    "Code for that method follows below:"
   ]
  },
  {
   "cell_type": "code",
   "execution_count": null,
   "metadata": {
    "collapsed": false
   },
   "outputs": [],
   "source": [
    "def get_leg_from_state(state):\n",
    "    legislators = []\n",
    "    try:\n",
    "        p = {\"method\":\"getLegislators\",\"apikey\":opensecrets_key,\"output\":\"json\",\"id\":state}\n",
    "        r = requests.get(\"http://www.opensecrets.org/api/\",params=p).text\n",
    "        if state != \"DC\":\n",
    "            for l in json.loads(r)['response']['legislator']:\n",
    "                attributes = l['@attributes']\n",
    "                attributes['state'] = state\n",
    "                legislators.append(attributes)\n",
    "        elif state == \"DC\":\n",
    "            attributes = json.loads(r)['response']['legislator']['@attributes']\n",
    "            attributes['state'] = state\n",
    "            legislators.append(attributes)\n",
    "        return legislators\n",
    "    except: \n",
    "        return None"
   ]
  },
  {
   "cell_type": "code",
   "execution_count": null,
   "metadata": {
    "collapsed": true
   },
   "outputs": [],
   "source": [
    "def get_all_leg():\n",
    "    states = [s.abbr for s in us.states.STATES]\n",
    "    all_leg = []\n",
    "    for s in tqdm(states):\n",
    "        leg = get_leg_from_state(s)\n",
    "        if leg is not None:\n",
    "            all_leg.extend(leg)\n",
    "        else:\n",
    "            print(\"couldn't get legislators for: \" + s)\n",
    "    return all_leg"
   ]
  },
  {
   "cell_type": "code",
   "execution_count": null,
   "metadata": {
    "collapsed": false
   },
   "outputs": [],
   "source": [
    "all_leg = get_all_leg()"
   ]
  },
  {
   "cell_type": "code",
   "execution_count": null,
   "metadata": {
    "collapsed": false
   },
   "outputs": [],
   "source": [
    "# easier to just do this manually\n",
    "dc = get_leg_from_state('DC')"
   ]
  },
  {
   "cell_type": "code",
   "execution_count": null,
   "metadata": {
    "collapsed": false
   },
   "outputs": [],
   "source": [
    "dc"
   ]
  },
  {
   "cell_type": "code",
   "execution_count": null,
   "metadata": {
    "collapsed": false
   },
   "outputs": [],
   "source": [
    "len(all_leg)"
   ]
  },
  {
   "cell_type": "markdown",
   "metadata": {},
   "source": [
    "Some investigation reveals that the number given above (539) is greater than expected (536) because OpenSecrets is also giving profiles for people who didn't finish their terms or started midway through a term. This eventually made me realize this endpoint is for the 114th Congress, not the current Congress."
   ]
  },
  {
   "cell_type": "code",
   "execution_count": null,
   "metadata": {
    "collapsed": true
   },
   "outputs": [],
   "source": []
  }
 ],
 "metadata": {
  "kernelspec": {
   "display_name": "Python 3",
   "language": "python",
   "name": "python3"
  },
  "language_info": {
   "codemirror_mode": {
    "name": "ipython",
    "version": 3
   },
   "file_extension": ".py",
   "mimetype": "text/x-python",
   "name": "python",
   "nbconvert_exporter": "python",
   "pygments_lexer": "ipython3",
   "version": "3.5.3"
  }
 },
 "nbformat": 4,
 "nbformat_minor": 0
}
