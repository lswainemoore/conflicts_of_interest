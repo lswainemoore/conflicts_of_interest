{
 "cells": [
  {
   "cell_type": "markdown",
   "metadata": {},
   "source": [
    "# Train and test models\n",
    "## Big picture:\n",
    "Train models to classify company descriptions into OpenSecrets industry labels. Test them on inputs in and out of domain."
   ]
  },
  {
   "cell_type": "markdown",
   "metadata": {},
   "source": [
    "## Basic setup"
   ]
  },
  {
   "cell_type": "code",
   "execution_count": 1,
   "metadata": {
    "collapsed": false
   },
   "outputs": [],
   "source": [
    "import pandas as pd\n",
    "import numpy as np\n",
    "from tqdm import tqdm, tqdm_notebook\n",
    "import json\n",
    "import nltk\n",
    "import matplotlib.pyplot as plt\n",
    "import random\n",
    "\n",
    "\n",
    "from sklearn.feature_extraction.text import CountVectorizer\n",
    "from sklearn.feature_extraction.text import TfidfTransformer\n",
    "from sklearn.naive_bayes import MultinomialNB\n",
    "from sklearn.linear_model import SGDClassifier\n",
    "from sklearn.ensemble import BaggingClassifier\n",
    "from sklearn.pipeline import Pipeline\n",
    "from sklearn.model_selection import train_test_split\n",
    "from sklearn import metrics\n",
    "\n",
    "\n",
    "from nltk import word_tokenize          \n",
    "from nltk.stem import WordNetLemmatizer \n",
    "\n",
    "\n",
    "from nltk.corpus import stopwords\n",
    "from nltk.metrics import ConfusionMatrix\n",
    "\n",
    "%matplotlib inline"
   ]
  },
  {
   "cell_type": "code",
   "execution_count": null,
   "metadata": {
    "collapsed": false,
    "scrolled": false
   },
   "outputs": [],
   "source": [
    "# DOES NOT NEED TO BE RUN EVERY TIME\n",
    "# http://stackoverflow.com/questions/38128935/nltk-panlex-lite-giving-me-error/38135306#38135306\n",
    "dler = nltk.downloader.Downloader()\n",
    "dler._update_index()\n",
    "dler._status_cache['panlex_lite'] = 'installed'\n",
    "dler.download(\"all\")"
   ]
  },
  {
   "cell_type": "markdown",
   "metadata": {},
   "source": [
    "## Load data"
   ]
  },
  {
   "cell_type": "code",
   "execution_count": 2,
   "metadata": {
    "collapsed": true
   },
   "outputs": [],
   "source": [
    "companies = pd.read_csv('../data/lincoln/companies_catcodes_text.csv')\n",
    "\n",
    "# just using values that have reuters for now\n",
    "companies = companies[~companies.reuters.isnull()]\n",
    "\n",
    "# create a binary classification for pharma\n",
    "companies[\"isPharma\"] = companies.apply(lambda row: 1 if row[\"Industry\"]==\"Pharmaceuticals/Health Products\" else 0, axis=1)\n"
   ]
  },
  {
   "cell_type": "markdown",
   "metadata": {},
   "source": [
    "## Some exploratory analysis"
   ]
  },
  {
   "cell_type": "markdown",
   "metadata": {},
   "source": [
    "#### length before cutting out non-Reuters"
   ]
  },
  {
   "cell_type": "code",
   "execution_count": 3,
   "metadata": {
    "collapsed": false,
    "scrolled": true
   },
   "outputs": [
    {
     "data": {
      "text/plain": [
       "3623"
      ]
     },
     "execution_count": 3,
     "metadata": {},
     "output_type": "execute_result"
    }
   ],
   "source": [
    "len(pd.read_csv('../data/lincoln/companies_catcodes_text.csv'))"
   ]
  },
  {
   "cell_type": "markdown",
   "metadata": {},
   "source": [
    "#### length after cutting out non-Reuters\n"
   ]
  },
  {
   "cell_type": "code",
   "execution_count": 4,
   "metadata": {
    "collapsed": false
   },
   "outputs": [
    {
     "data": {
      "text/plain": [
       "3416"
      ]
     },
     "execution_count": 4,
     "metadata": {},
     "output_type": "execute_result"
    }
   ],
   "source": [
    "len(companies)"
   ]
  },
  {
   "cell_type": "code",
   "execution_count": 5,
   "metadata": {
    "collapsed": false
   },
   "outputs": [
    {
     "data": {
      "text/plain": [
       "545"
      ]
     },
     "execution_count": 5,
     "metadata": {},
     "output_type": "execute_result"
    }
   ],
   "source": [
    "len(companies[companies.Industry == \"Pharmaceuticals/Health Products\"])"
   ]
  },
  {
   "cell_type": "code",
   "execution_count": 6,
   "metadata": {
    "collapsed": false
   },
   "outputs": [
    {
     "data": {
      "text/plain": [
       "Pharmaceuticals/Health Products      545\n",
       "Electronics Mfg & Equip              395\n",
       "Commercial Banks                     345\n",
       "Oil & Gas                            253\n",
       "Real Estate                          241\n",
       "Misc Manufacturing & Distributing    201\n",
       "Business Services                    163\n",
       "Insurance                            139\n",
       "Savings & Loans                       91\n",
       "Retail Sales                          86\n",
       "Telecom Services                      80\n",
       "Electric Utilities                    75\n",
       "Securities & Investment               73\n",
       "Telephone Utilities                   69\n",
       "Food & Beverage                       58\n",
       "TV/Movies/Music                       54\n",
       "Automotive                            46\n",
       "Air Transport                         41\n",
       "Sea Transport                         39\n",
       "Chemical & Related Manufacturing      39\n",
       "Lodging/Tourism                       26\n",
       "Finance/Credit Companies              26\n",
       "Health Services/HMOs                  26\n",
       "Food Processing & Sales               26\n",
       "Trucking                              24\n",
       "Home Builders                         24\n",
       "Building Materials & Equipment        23\n",
       "Printing & Publishing                 23\n",
       "Misc Services                         21\n",
       "Misc Energy                           20\n",
       "Steel Production                      20\n",
       "Forestry & Forest Products            15\n",
       "Railroads                             14\n",
       "Hospitals/Nursing Homes               12\n",
       "Misc Transport                        12\n",
       "Mining                                11\n",
       "Construction Services                 10\n",
       "General Contractors                    6\n",
       "Poultry & Eggs                         5\n",
       "Agricultural Services/Products         5\n",
       "Beer, Wine & Liquor                    5\n",
       "Waste Management                       5\n",
       "Casinos/Gambling                       4\n",
       "Tobacco                                4\n",
       "Special Trade Contractors              4\n",
       "Misc Finance                           3\n",
       "Health Professionals                   3\n",
       "Recreation/Live Entertainment          3\n",
       "Textiles                               2\n",
       "Lawyers/Law Firms                      1\n",
       "Name: Industry, dtype: int64"
      ]
     },
     "execution_count": 6,
     "metadata": {},
     "output_type": "execute_result"
    }
   ],
   "source": [
    "companies[\"Industry\"].value_counts()"
   ]
  },
  {
   "cell_type": "markdown",
   "metadata": {},
   "source": [
    "## Useful functions for splitting out data to work with"
   ]
  },
  {
   "cell_type": "markdown",
   "metadata": {},
   "source": [
    "If possible, return a dataframe of size size on which row_fn is true, and a dataframe of size size on which row_fn is false"
   ]
  },
  {
   "cell_type": "code",
   "execution_count": 7,
   "metadata": {
    "collapsed": true
   },
   "outputs": [],
   "source": [
    "def get_equal_samples(df, row_fn, size):\n",
    "    \n",
    "    b = df.apply(row_fn, axis = 1)\n",
    "    \n",
    "    yes = df[b]\n",
    "    no = df[~b]\n",
    "\n",
    "    if len(yes) < size or len(no) < size:\n",
    "        return None, None\n",
    "    \n",
    "    yes_sample = yes.sample(size, replace = False)\n",
    "    no_sample = no.sample(size, replace = False)\n",
    "    \n",
    "    return yes_sample, no_sample"
   ]
  },
  {
   "cell_type": "markdown",
   "metadata": {},
   "source": [
    "Concatenate and shuffle two dataframes, returning one"
   ]
  },
  {
   "cell_type": "code",
   "execution_count": 8,
   "metadata": {
    "collapsed": true
   },
   "outputs": [],
   "source": [
    "def mix_and_shuffle(d1, d2):\n",
    "    d = pd.concat([d1,d2]).sample(frac=1)\n",
    "    return d"
   ]
  },
  {
   "cell_type": "markdown",
   "metadata": {},
   "source": [
    "## Make an isPharma dataset"
   ]
  },
  {
   "cell_type": "code",
   "execution_count": 9,
   "metadata": {
    "collapsed": true
   },
   "outputs": [],
   "source": [
    "ypharma, npharma = get_equal_samples(companies, lambda row: row['isPharma'] == 1, 500)\n",
    "allpharma = mix_and_shuffle(ypharma, npharma)"
   ]
  },
  {
   "cell_type": "markdown",
   "metadata": {},
   "source": [
    "## Some basic feature construction and modeling work in NLTK\n",
    "#### Mostly adapted from http://www.nltk.org/book/ch06.html\n",
    "With a lot of help from:\n",
    "\n",
    "http://stackoverflow.com/questions/20827741/nltk-naivebayesclassifier-training-for-sentiment-analysis\n",
    "\n",
    "http://www.nltk.org/book/ch01.html\n",
    "\n",
    "http://www.nltk.org/book/ch03.html"
   ]
  },
  {
   "cell_type": "code",
   "execution_count": 10,
   "metadata": {
    "collapsed": false
   },
   "outputs": [],
   "source": [
    "text, label = list(allpharma[\"reuters\"]), list(allpharma[\"isPharma\"])\n",
    "documents = list(zip(text, label))"
   ]
  },
  {
   "cell_type": "code",
   "execution_count": 11,
   "metadata": {
    "collapsed": false
   },
   "outputs": [],
   "source": [
    "all_text = \" \".join(text)\n",
    "t = nltk.word_tokenize(all_text)\n",
    "fdmc = nltk.FreqDist(t).most_common(2000)"
   ]
  },
  {
   "cell_type": "code",
   "execution_count": 12,
   "metadata": {
    "collapsed": true
   },
   "outputs": [],
   "source": [
    "def document_features(document, word_features):\n",
    "    document_words = set(nltk.word_tokenize(document))\n",
    "    features = {}\n",
    "    for word in word_features:\n",
    "        features['contains({})'.format(word[0])] = (word[0] in document_words)\n",
    "    return features"
   ]
  },
  {
   "cell_type": "code",
   "execution_count": 13,
   "metadata": {
    "collapsed": true
   },
   "outputs": [],
   "source": [
    "featuresets = [(document_features(d, fdmc), c) for (d,c) in documents]\n",
    "train_set, test_set = featuresets[500:], featuresets[:500]"
   ]
  },
  {
   "cell_type": "code",
   "execution_count": 14,
   "metadata": {
    "collapsed": false
   },
   "outputs": [],
   "source": [
    "classifier = nltk.NaiveBayesClassifier.train(train_set)"
   ]
  },
  {
   "cell_type": "code",
   "execution_count": 15,
   "metadata": {
    "collapsed": false,
    "scrolled": true
   },
   "outputs": [
    {
     "name": "stdout",
     "output_type": "stream",
     "text": [
      "0.974\n"
     ]
    }
   ],
   "source": [
    "print(nltk.classify.accuracy(classifier, test_set))"
   ]
  },
  {
   "cell_type": "markdown",
   "metadata": {},
   "source": [
    "97% classification isn't bad for such a basic attempt, though it's a very simple task (isPharma), and distribution of classes probably not very even."
   ]
  },
  {
   "cell_type": "code",
   "execution_count": 16,
   "metadata": {
    "collapsed": false
   },
   "outputs": [
    {
     "name": "stdout",
     "output_type": "stream",
     "text": [
      "Most Informative Features\n",
      "    contains(candidates) = True                1 : 0      =     61.7 : 1.0\n",
      "contains(biopharmaceutical) = True                1 : 0      =     57.8 : 1.0\n",
      "contains(Pharmaceuticals) = True                1 : 0      =     56.5 : 1.0\n",
      "    contains(investment) = True                0 : 1      =     54.0 : 1.0\n",
      "          contains(real) = True                0 : 1      =     53.3 : 1.0\n",
      "   contains(residential) = True                0 : 1      =     52.7 : 1.0\n",
      "  contains(Therapeutics) = True                1 : 0      =     51.3 : 1.0\n",
      "       contains(million) = True                0 : 1      =     43.0 : 1.0\n",
      "     contains(candidate) = True                1 : 0      =     39.3 : 1.0\n",
      "        contains(credit) = True                0 : 1      =     38.2 : 1.0\n",
      "         contains(Phase) = True                1 : 0      =     35.3 : 1.0\n",
      "       contains(therapy) = True                1 : 0      =     33.9 : 1.0\n",
      "          contains(Bank) = True                0 : 1      =     32.7 : 1.0\n",
      "         contains(tumor) = True                1 : 0      =     32.6 : 1.0\n",
      "   contains(preclinical) = True                1 : 0      =     30.7 : 1.0\n",
      "        contains(Pfizer) = True                1 : 0      =     30.7 : 1.0\n",
      "      contains(deposits) = True                0 : 1      =     29.9 : 1.0\n",
      "          contains(pain) = True                1 : 0      =     29.4 : 1.0\n",
      "      contains(patients) = True                1 : 0      =     29.1 : 1.0\n",
      "contains(commercializing) = True                1 : 0      =     28.7 : 1.0\n"
     ]
    }
   ],
   "source": [
    "classifier.show_most_informative_features(20)"
   ]
  },
  {
   "cell_type": "markdown",
   "metadata": {},
   "source": [
    "The above features are fairly unsurprising. The words \"candidates\", \"biopharmaceutical\", and \"Pharmaceuticals\" are the words most positively correlated with the pharmaceutical industry, while \"investment\", \"real\", and \"residential\" are the words most positively associated with belonging to an industry other than pharmaceutical."
   ]
  },
  {
   "cell_type": "markdown",
   "metadata": {},
   "source": [
    "### Just playing around with this classifier a bit"
   ]
  },
  {
   "cell_type": "code",
   "execution_count": 17,
   "metadata": {
    "collapsed": false,
    "scrolled": true
   },
   "outputs": [
    {
     "data": {
      "text/plain": [
       "0.3957733053102362"
      ]
     },
     "execution_count": 17,
     "metadata": {},
     "output_type": "execute_result"
    }
   ],
   "source": [
    "classifier.prob_classify(document_features(\"finance construction financial deposits residential \",fdmc)).prob(1)"
   ]
  },
  {
   "cell_type": "markdown",
   "metadata": {},
   "source": [
    "...sure. Kinda high, but sure."
   ]
  },
  {
   "cell_type": "code",
   "execution_count": 18,
   "metadata": {
    "collapsed": false,
    "scrolled": true
   },
   "outputs": [
    {
     "data": {
      "text/plain": [
       "0.9999999987357053"
      ]
     },
     "execution_count": 18,
     "metadata": {},
     "output_type": "execute_result"
    }
   ],
   "source": [
    "classifier.prob_classify(document_features(\"health drug\",fdmc)).prob(1)"
   ]
  },
  {
   "cell_type": "markdown",
   "metadata": {},
   "source": [
    "...sure."
   ]
  },
  {
   "cell_type": "code",
   "execution_count": 19,
   "metadata": {
    "collapsed": false,
    "scrolled": true
   },
   "outputs": [
    {
     "data": {
      "text/plain": [
       "0.9999999765936857"
      ]
     },
     "execution_count": 19,
     "metadata": {},
     "output_type": "execute_result"
    }
   ],
   "source": [
    "classifier.prob_classify(document_features(\"nonsense blah blah\",fdmc)).prob(1)"
   ]
  },
  {
   "cell_type": "markdown",
   "metadata": {},
   "source": [
    "...hmm. This is a less pleasing result."
   ]
  },
  {
   "cell_type": "code",
   "execution_count": 20,
   "metadata": {
    "collapsed": false
   },
   "outputs": [
    {
     "name": "stdout",
     "output_type": "stream",
     "text": [
      "  |   0   1 |\n",
      "--+---------+\n",
      "0 |<254>  . |\n",
      "1 |  13<233>|\n",
      "--+---------+\n",
      "(row = reference; col = test)\n",
      "\n"
     ]
    }
   ],
   "source": [
    "out = classifier.classify_many([t[0] for t in test_set])\n",
    "print(ConfusionMatrix ([t[1] for t in test_set], out))"
   ]
  },
  {
   "cell_type": "markdown",
   "metadata": {
    "collapsed": true
   },
   "source": [
    "Okay, so isPharma classifier clearly works reasonably well on data within the domain, but does not work well on data from a different distribution (like my \"nonsense blah blah\" example, which is given a 0.99 toward pharma-related)."
   ]
  },
  {
   "cell_type": "markdown",
   "metadata": {},
   "source": [
    "## Switching to sklearn\n",
    "### Turns out we can do pretty much all the above (and more easily) in sklearn\n",
    "#### Adapted from:\n",
    "http://bbengfort.github.io/tutorials/2016/05/19/text-classification-nltk-sckit-learn.html\n",
    "\n",
    "http://nlpforhackers.io/building-a-nlp-pipeline-in-nltk/\n",
    "\n",
    "http://nlpforhackers.io/text-classification/\n",
    "\n",
    "http://zacstewart.com/2015/04/28/document-classification-with-scikit-learn.html\n",
    "\n",
    "http://zacstewart.com/2014/08/05/pipelines-of-featureunions-of-pipelines.html\n",
    "\n",
    "http://scikit-learn.org/stable/tutorial/text_analytics/working_with_text_data.html\n",
    "\n",
    "http://scikit-learn.org/stable/modules/feature_extraction.html\n",
    "\n",
    "http://scikit-learn.org/stable/auto_examples/model_selection/grid_search_text_feature_extraction.html\n"
   ]
  },
  {
   "cell_type": "markdown",
   "metadata": {},
   "source": [
    "#### Lemmatizer from http://scikit-learn.org/stable/modules/feature_extraction.html \n",
    "Tested, but didn't seem to add any lift"
   ]
  },
  {
   "cell_type": "code",
   "execution_count": 21,
   "metadata": {
    "collapsed": true
   },
   "outputs": [],
   "source": [
    "class LemmaTokenizer(object):\n",
    "    def __init__(self):\n",
    "        self.wnl = WordNetLemmatizer()\n",
    "    def __call__(self, doc):\n",
    "        return [self.wnl.lemmatize(t) for t in word_tokenize(doc)]"
   ]
  },
  {
   "cell_type": "markdown",
   "metadata": {},
   "source": [
    "#### Helper function \n",
    "that given a pipeline and training and testing data, trains and returns the model (printing test set error). Inspired by: http://nlpforhackers.io/text-classification/"
   ]
  },
  {
   "cell_type": "code",
   "execution_count": 22,
   "metadata": {
    "collapsed": true
   },
   "outputs": [],
   "source": [
    "def train_and_predict(model, data, model_name = None):\n",
    "    m = model.fit(data['X_train'], data['y_train'])\n",
    "    predicted = m.predict(data['X_test'])\n",
    "    c_rate = np.mean(predicted == data['y_test'])\n",
    "    if model_name is None:\n",
    "        print(c_rate)\n",
    "    else:\n",
    "        print(model_name + \": \" + str(c_rate))\n",
    "    return m"
   ]
  },
  {
   "cell_type": "markdown",
   "metadata": {},
   "source": [
    "### Define our model pipelines\n",
    "(In a function so can be reset easily)"
   ]
  },
  {
   "cell_type": "code",
   "execution_count": 23,
   "metadata": {
    "collapsed": false
   },
   "outputs": [],
   "source": [
    "def reset_models():\n",
    "    \n",
    "    # MULTINOMIAL NAIVE BAYES\n",
    "    MNB = Pipeline([\n",
    "            ('vect', CountVectorizer(stop_words=stopwords.words('english'))),\n",
    "    #         ('tfidf', TfidfTransformer()),\n",
    "            ('clf', MultinomialNB())\n",
    "    ])\n",
    "    \n",
    "    \n",
    "    # BAGGING CLASSIFIER WITH DECISION TREES\n",
    "    BDT = Pipeline([\n",
    "            ('vect', CountVectorizer(stop_words=stopwords.words('english'))),\n",
    "            ('tfidf', TfidfTransformer()),\n",
    "            ('clf', BaggingClassifier())\n",
    "    ])\n",
    "    \n",
    "    \n",
    "    # SUPPORT VECTOR MACHINE\n",
    "    SVM = Pipeline([\n",
    "            ('vect', CountVectorizer(stop_words=stopwords.words('english'))),\n",
    "            ('tfidf', TfidfTransformer()),\n",
    "            ('clf', SGDClassifier(loss='hinge'))\n",
    "    ])\n",
    "    \n",
    "    # LOGISTIC REGRESSION\n",
    "    LOG = Pipeline([\n",
    "            ('vect', CountVectorizer(stop_words=stopwords.words('english'))),\n",
    "            ('tfidf', TfidfTransformer()),\n",
    "            ('clf', SGDClassifier(loss='log'))\n",
    "    ])\n",
    "    \n",
    "    return {'MNB':MNB, 'BDT':BDT, 'SVM':SVM, 'LOG':LOG}"
   ]
  },
  {
   "cell_type": "markdown",
   "metadata": {},
   "source": [
    "### Split out testing and training data for three tasks"
   ]
  },
  {
   "cell_type": "code",
   "execution_count": 24,
   "metadata": {
    "collapsed": true
   },
   "outputs": [],
   "source": [
    "isPharma_data = {}\n",
    "isPharma_data['X_train'], isPharma_data['X_test'], isPharma_data['y_train'], isPharma_data['y_test'] = train_test_split(companies.reuters.values, \n",
    "                                                    companies['isPharma'].values,\n",
    "                                                   test_size=0.2)"
   ]
  },
  {
   "cell_type": "code",
   "execution_count": 25,
   "metadata": {
    "collapsed": false
   },
   "outputs": [],
   "source": [
    "sector_data = {}\n",
    "sector_data['X_train'], sector_data['X_test'], sector_data['y_train'], sector_data['y_test'] = train_test_split(companies.reuters.values, \n",
    "                                                    companies[\"Sector Long\"].values,\n",
    "                                                   test_size=0.2)"
   ]
  },
  {
   "cell_type": "code",
   "execution_count": 26,
   "metadata": {
    "collapsed": false
   },
   "outputs": [],
   "source": [
    "industry_data = {}\n",
    "industry_data['X_train'], industry_data['X_test'], industry_data['y_train'], industry_data['y_test'] = train_test_split(companies.reuters.values, \n",
    "                                                    companies[\"Industry\"].values,\n",
    "                                                   test_size=0.2)"
   ]
  },
  {
   "cell_type": "markdown",
   "metadata": {},
   "source": [
    "### Train models for each task"
   ]
  },
  {
   "cell_type": "code",
   "execution_count": 27,
   "metadata": {
    "collapsed": false,
    "scrolled": true
   },
   "outputs": [
    {
     "name": "stdout",
     "output_type": "stream",
     "text": [
      "BDT: 0.960526315789\n",
      "LOG: 0.979532163743\n",
      "MNB: 0.985380116959\n",
      "SVM: 0.983918128655\n"
     ]
    }
   ],
   "source": [
    "isPharma_models = {k: train_and_predict(v, isPharma_data, k) for k,v in reset_models().items()}"
   ]
  },
  {
   "cell_type": "code",
   "execution_count": 28,
   "metadata": {
    "collapsed": false
   },
   "outputs": [
    {
     "name": "stdout",
     "output_type": "stream",
     "text": [
      "BDT: 0.812865497076\n",
      "LOG: 0.891812865497\n",
      "MNB: 0.861111111111\n",
      "SVM: 0.893274853801\n"
     ]
    }
   ],
   "source": [
    "sector_models = {k: train_and_predict(v, sector_data, k) for k,v in reset_models().items()}"
   ]
  },
  {
   "cell_type": "code",
   "execution_count": 29,
   "metadata": {
    "collapsed": false,
    "scrolled": true
   },
   "outputs": [
    {
     "name": "stdout",
     "output_type": "stream",
     "text": [
      "BDT: 0.703216374269\n",
      "LOG: 0.795321637427\n",
      "MNB: 0.707602339181\n",
      "SVM: 0.81432748538\n"
     ]
    }
   ],
   "source": [
    "industry_models = {k: train_and_predict(v, industry_data, k) for k,v in reset_models().items()}"
   ]
  },
  {
   "cell_type": "markdown",
   "metadata": {},
   "source": [
    "### Apply results"
   ]
  },
  {
   "cell_type": "markdown",
   "metadata": {},
   "source": [
    "Helper function that prints potential results above a threshold for a list of texts (potentially only from certain classes -- useful for situation where looking for conflicts of interest)"
   ]
  },
  {
   "cell_type": "code",
   "execution_count": 30,
   "metadata": {
    "collapsed": false
   },
   "outputs": [],
   "source": [
    "def cats_above_threshhold(model, text, threshold = -1, notable_classes = None):\n",
    "    if isinstance(text, str):\n",
    "        text = [text]\n",
    "    results = model.predict_proba(text)\n",
    "    for i,r in enumerate(results):\n",
    "        zipped = list(zip(model.classes_, r))\n",
    "        for z in zipped:\n",
    "            if z[1] >= threshold:\n",
    "                if notable_classes is None or z[0] in notable_classes:\n",
    "                    print(\"TEXT: \" + text[i] + \" | LABEL: \" + str(z[0]) + \" | PROBABILITY: \" + str(z[1]))"
   ]
  },
  {
   "cell_type": "markdown",
   "metadata": {},
   "source": [
    "Example:"
   ]
  },
  {
   "cell_type": "code",
   "execution_count": 31,
   "metadata": {
    "collapsed": false
   },
   "outputs": [
    {
     "name": "stdout",
     "output_type": "stream",
     "text": [
      "TEXT: pharmaceutical | LABEL: Pharmaceuticals/Health Products | PROBABILITY: 0.334560977674\n",
      "TEXT: bank finance | LABEL: Commercial Banks | PROBABILITY: 0.311069724997\n"
     ]
    }
   ],
   "source": [
    "cats_above_threshhold(industry_models['LOG'], [\"pharmaceutical\", 'bank finance','nonsense blah'], .1)"
   ]
  },
  {
   "cell_type": "markdown",
   "metadata": {},
   "source": [
    "### old"
   ]
  },
  {
   "cell_type": "code",
   "execution_count": null,
   "metadata": {
    "collapsed": false,
    "scrolled": false
   },
   "outputs": [],
   "source": [
    "# SECTOR\n",
    "mnb = train_and_predict(mnb, X_train, y_train, X_test, y_test)\n",
    "bc = train_and_predict(bc, X_train, y_train, X_test, y_test)\n",
    "sgd_log = train_and_predict(sgd_log, X_train, y_train, X_test, y_test)\n",
    "sgd_hinge = train_and_predict(sgd_hinge, X_train, y_train, X_test, y_test)"
   ]
  },
  {
   "cell_type": "code",
   "execution_count": null,
   "metadata": {
    "collapsed": false,
    "scrolled": true
   },
   "outputs": [],
   "source": [
    "# INDUSTRY\n",
    "mnb = train_and_predict(mnb, X_train, y_train, X_test, y_test)\n",
    "bc = train_and_predict(bc, X_train, y_train, X_test, y_test)\n",
    "sgd_log = train_and_predict(sgd_log, X_train, y_train, X_test, y_test)\n",
    "sgd_hinge = train_and_predict(sgd_hinge, X_train, y_train, X_test, y_test)"
   ]
  },
  {
   "cell_type": "markdown",
   "metadata": {},
   "source": [
    "## Now we'll try models on some tweets"
   ]
  },
  {
   "cell_type": "markdown",
   "metadata": {},
   "source": [
    "### Read in tweets, and twitter_ids"
   ]
  },
  {
   "cell_type": "code",
   "execution_count": 32,
   "metadata": {
    "collapsed": true
   },
   "outputs": [],
   "source": [
    "data_relative_path = \"../data/lincoln/\"\n",
    "streamed_tweets_location = data_relative_path + \"congress_streamed_tweets/\"\n",
    "searched_tweets_location = data_relative_path + \"congress_searched_tweets/\""
   ]
  },
  {
   "cell_type": "code",
   "execution_count": 33,
   "metadata": {
    "collapsed": false
   },
   "outputs": [],
   "source": [
    "# GET THE USER IDS\n",
    "df = pd.read_csv(data_relative_path + \"current_social_media.csv\", dtype=str)\n",
    "user_ids = df.twitter_id\n",
    "good_user_ids = []\n",
    "for uid in user_ids:\n",
    "    try:\n",
    "        # THIS IS JUST SO WE IGNORE NANS VALUES\n",
    "        g = int(uid)\n",
    "        good_user_ids.append(uid)\n",
    "    except ValueError:\n",
    "        pass"
   ]
  },
  {
   "cell_type": "markdown",
   "metadata": {},
   "source": [
    "### Just as an example..."
   ]
  },
  {
   "cell_type": "code",
   "execution_count": 34,
   "metadata": {
    "collapsed": false
   },
   "outputs": [],
   "source": [
    "# just for testing\n",
    "temp_ids = [good_user_ids[1]]"
   ]
  },
  {
   "cell_type": "code",
   "execution_count": 35,
   "metadata": {
    "collapsed": false
   },
   "outputs": [
    {
     "data": {
      "text/plain": [
       "['117501995']"
      ]
     },
     "execution_count": 35,
     "metadata": {},
     "output_type": "execute_result"
    }
   ],
   "source": [
    "temp_ids"
   ]
  },
  {
   "cell_type": "code",
   "execution_count": 36,
   "metadata": {
    "collapsed": false
   },
   "outputs": [
    {
     "name": "stdout",
     "output_type": "stream",
     "text": [
      "3199\n"
     ]
    }
   ],
   "source": [
    "for guid in temp_ids:\n",
    "    # http://stackoverflow.com/questions/21058935/python-json-loads-shows-valueerror-extra-data\n",
    "    tweets = []\n",
    "    for line in open(searched_tweets_location + guid + '.json','r'):\n",
    "        tweets.append(json.loads(line))\n",
    "    print(len(tweets))"
   ]
  },
  {
   "cell_type": "code",
   "execution_count": 37,
   "metadata": {
    "collapsed": false
   },
   "outputs": [],
   "source": [
    "tweet_text = [t['text'] for t in tweets]"
   ]
  },
  {
   "cell_type": "markdown",
   "metadata": {},
   "source": [
    "### Proof of concept"
   ]
  },
  {
   "cell_type": "code",
   "execution_count": 38,
   "metadata": {
    "collapsed": false,
    "scrolled": true
   },
   "outputs": [
    {
     "name": "stdout",
     "output_type": "stream",
     "text": [
      "TEXT: We must manage our #PublicLands for the benefit of all Americans — not just #oil #gas &amp; #mining companies’ interests https://t.co/d2Mn4gwZnI | LABEL: Oil & Gas | PROBABILITY: 0.9\n",
      "TEXT: We must manage our #PublicLands for the benefit of all Americans — not just #oil #gas &amp; #mining companies’ interests https://t.co/d2Mn4gwZnI | LABEL: Oil & Gas | PROBABILITY: 0.9\n",
      "TEXT: Gorsuch has ruled against #LGBTQ individuals seeking fair, nondiscriminatory treatment. I will not support such hostility towards our rights | LABEL: Pharmaceuticals/Health Products | PROBABILITY: 0.9\n",
      "TEXT: Trump’s #EO fails in creating rural #cleanenergy jobs, ignores impacts extreme weather will have &amp; doesn't decrease our foreign oil reliance | LABEL: Oil & Gas | PROBABILITY: 0.8\n",
      "TEXT: Republican #ACA repeal &amp; disastrous #AHCA will leave millions w/o coverage including for addiction treatment in mid… https://t.co/2mhK9EGYIU | LABEL: Pharmaceuticals/Health Products | PROBABILITY: 1.0\n",
      "TEXT: At the height of the #opioid epidemic, House Republicans vote to worsen the epidemic by repealing #Medicaid &amp; vital addiction treatment | LABEL: Pharmaceuticals/Health Products | PROBABILITY: 1.0\n",
      "TEXT: Trump Admin decision to cancel a decrease in mortgage insurance fees charged by FHA will hurt first-time home buyers in WA &amp; across the U.S. | LABEL: Insurance | PROBABILITY: 1.0\n",
      "TEXT: Today I introduced the Lymphedema Treatment Act to increase &amp; improve care for #Medicare beneficiaries w/ lymphedema https://t.co/piQsu4hl6N | LABEL: Pharmaceuticals/Health Products | PROBABILITY: 1.0\n",
      "TEXT: WA was a trailblazer in recognizing marriage #equality &amp; same sex couples deserve equal treatment under the law https://t.co/RLHtlNKDzC | LABEL: Pharmaceuticals/Health Products | PROBABILITY: 1.0\n",
      "TEXT: RT @AlaskaAir: A 3rd-floor Alaska Lounge, power outlets at 70% of seats &amp; 50% more retail &amp; restaurants. More NSat details: https://t.co/lm… | LABEL: Food & Beverage | PROBABILITY: 0.9\n",
      "TEXT: \"My story is just one of many\" says Iraqi national Murtadha Al Tameemi a software engineer at Facebook in Seattle  https://t.co/wWjLOao0ES | LABEL: Electronics Mfg & Equip | PROBABILITY: 0.9\n",
      "TEXT: R's promise people will not lose their coverage. But NEW @USCBO report says 18 million would lose #health insurance if the #ACA is repealed | LABEL: Insurance | PROBABILITY: 1.0\n",
      "TEXT: RT @nytimes: Congressional study: Partial repeal of Obamacare could cause insurance premiums to double over 10 years https://t.co/B4vMEqVKWO | LABEL: Insurance | PROBABILITY: 1.0\n",
      "TEXT: \"Record numbers are signing up for #health insurance through the #ACA, even as #Congress plots to dump it\" https://t.co/A8ARiKOJ3K | LABEL: Insurance | PROBABILITY: 1.0\n",
      "TEXT: On #WorldAIDSDay we remember all the lives that have been lost &amp; work to destigmatize HIV/AIDS, expand treatment &amp; find a cure | LABEL: Pharmaceuticals/Health Products | PROBABILITY: 1.0\n",
      "TEXT: Committing to no new oil &amp; gas development on the #westcoast is vital to preserving our oceans &amp; coastal economies \n",
      "https://t.co/8rwJrG7JGd | LABEL: Oil & Gas | PROBABILITY: 0.9\n",
      "TEXT: RT @SBAPacificNW: Read how #veteran family-owned #smallbiz Empower Painting of #Oregon turns houses into homes - https://t.co/3IouLZqvON #M… | LABEL: Home Builders | PROBABILITY: 0.9\n",
      "TEXT: November is #AmericanDiabetesMonth to raise awareness about #diabetes &amp; work to increase treatment &amp; prevention education #thisisdiabetes | LABEL: Pharmaceuticals/Health Products | PROBABILITY: 1.0\n",
      "TEXT: Happy #WeatherizationDay &amp; 40th Anniversary of the Weatherization Assistance Program, improving #energyefficiency of homes across the nation | LABEL: Home Builders | PROBABILITY: 0.9\n",
      "TEXT: America’s most successful #AffordableHousing creation tool turns 30 this yr. Let's celebrate the #LIHTC by expanding it to build more homes! | LABEL: Home Builders | PROBABILITY: 0.9\n",
      "TEXT: RT @HousingACTION: 6.7 million low-income households have been provided affordable homes because of the Housing Credit #LIHTCat30 https://t… | LABEL: Home Builders | PROBABILITY: 0.9\n",
      "TEXT: Mitsubishi Aircraft’s 1st test regional jet lands in Moses Lake WA from Japan, good news for local #jobs &amp; #economy! https://t.co/PPXXnNEJCZ | LABEL: Air Transport | PROBABILITY: 1.0\n",
      "TEXT: New WA Dept of Ecology rule step in the right direction. Need national standard to regulate volatility of crude oil https://t.co/lLyThEe9TC | LABEL: Oil & Gas | PROBABILITY: 0.8\n",
      "TEXT: The #heroin &amp; #opioid epidemic is hurting communities across the nation; we must break down barriers to #treatment: https://t.co/R522IyxDcS | LABEL: Pharmaceuticals/Health Products | PROBABILITY: 1.0\n",
      "TEXT: RT @CampionAdvocacy: .@SenatorCantwell TY for sponsoring the Low-Income Housing Tax Credit. Great tool 2 build more affordable homes,solve… | LABEL: Home Builders | PROBABILITY: 0.9\n",
      "TEXT: The reality of R’s refusal to find a funding solution for #Zika means treatment &amp; vaccine development will be stalled as we head into summer | LABEL: Pharmaceuticals/Health Products | PROBABILITY: 1.0\n",
      "TEXT: WA would be eligible for up to $20M over 2 yrs to expand access to treatment for #opioid use under @POTUS proposal https://t.co/9N0iHYcF9K | LABEL: Pharmaceuticals/Health Products | PROBABILITY: 1.0\n",
      "TEXT: Applaud Administrations action on #opioidepidemic. We must act to provide resources for treatment now https://t.co/WHNoaYvSlN @HHSGov | LABEL: Pharmaceuticals/Health Products | PROBABILITY: 1.0\n",
      "TEXT: Cantwell in #wallawalla last week talking about how the #LIHTC could bring almost 400 affordable homes to the city https://t.co/0R86aYnFay | LABEL: Home Builders | PROBABILITY: 0.9\n",
      "TEXT: Thx to equal treatment in access to gov. contracts, today more women are growing their small businesses &amp; creating jobs #DreamSmallBiz | LABEL: Pharmaceuticals/Health Products | PROBABILITY: 1.0\n",
      "TEXT: Right now there are 162,000 Washingtonians missing out on more affordable health insurance. https://t.co/XQz95js3f3 | LABEL: Insurance | PROBABILITY: 1.0\n",
      "TEXT: 162,000 WA residents don't qualify for Medicaid &amp; can’t afford insurance. The Basic Health Plan would fix that. https://t.co/ZJOrQ2d7tC | LABEL: Insurance | PROBABILITY: 1.0\n",
      "TEXT: The #paygap means less money for food, rent, children’s clothes, health insurance premiums, or just a rainy day. https://t.co/AE8ILS04QB | LABEL: Insurance | PROBABILITY: 1.0\n",
      "TEXT: I will continue to champion the Low Income Housing Tax Credit so that more projects can offer homes for the homeless https://t.co/eAN0hF4Lof | LABEL: Home Builders | PROBABILITY: 0.9\n",
      "TEXT: RT @EnergyDems: We now need to sharpen our focus to see the #transportation sector as a way to cut emissions and reduce our use of #oil. -@… | LABEL: Oil & Gas | PROBABILITY: 0.8\n",
      "TEXT: Think about it: less than 2 years ago 1 barrel of oil cost $100, and today, ~$30. As fuel, wind and solar have much less price volatility. | LABEL: Oil & Gas | PROBABILITY: 0.8\n",
      "TEXT: RT @LymphedemaACT1: Thank you @SenatorCantwell for introducing the #Lymphedema Treatment Act in the Senate. https://t.co/nTyIX5FYBP https:/… | LABEL: Pharmaceuticals/Health Products | PROBABILITY: 1.0\n",
      "TEXT: High Frequency Radar data aids #CoastGuard search &amp; rescue planning, oil spill mapping &amp; response 4/4 @uscoastguard | LABEL: Oil & Gas | PROBABILITY: 0.8\n",
      "TEXT: Cantwell applauds disaster declaration for #WAwildfires, continues to push for assistance for those who lost homes https://t.co/hUOZERMk4D | LABEL: Home Builders | PROBABILITY: 0.9\n",
      "TEXT: The #StrongFamilies bill builds on #WA's innovative approaches to #fostercare &amp; will help build safe, stable homes http://t.co/579ySi2PoQ | LABEL: Home Builders | PROBABILITY: 0.9\n",
      "TEXT: Ongoing risk of #CrudebyRail: 35,000 Gallons of Oil Spills After Montana Train Derailment http://t.co/2MeOXIcObr via @ABC #CBRSafetyAct | LABEL: Oil & Gas | PROBABILITY: 0.8\n",
      "TEXT: Great to see #Kelso, WA launch their #communitysolar project to help bring #solarpower to local homes! READ MORE: http://t.co/0dMYeWe7Ro | LABEL: Home Builders | PROBABILITY: 0.9\n",
      "TEXT: RT @CBSNews DEVELOPING: North Dakota town evacuated due to oil train derailment, fire http://t.co/nvq1GHbnKN #oiltrain | LABEL: Oil & Gas | PROBABILITY: 0.8\n",
      "TEXT: Last yr, #WA state was most hard-hit by #wildfire, w/ over 353 homes destroyed. http://t.co/nOSB3lHF4t @SenateEnergy http://t.co/F7eEKl1cCw | LABEL: Home Builders | PROBABILITY: 0.9\n",
      "TEXT: RT @MarkRuffalo: Senator Cantwell is right. This does nothing to deal with the explosivity. New Oil Train Rules Are Hit From All Sides http… | LABEL: Oil & Gas | PROBABILITY: 0.8\n",
      "TEXT: DOT issues final rules on flammable oil trains -- Cantwell: rule is like saying \"let the #oiltrains roll\" http://t.co/McgdOMyfEQ @POLITICO | LABEL: Oil & Gas | PROBABILITY: 0.8\n",
      "TEXT: RT @SenateEnergy: \"On crude oil exports, there's no analysis of what this policy change might mean for consumers in the Pacific NW.\" http:/… | LABEL: Oil & Gas | PROBABILITY: 0.8\n",
      "TEXT: WATCH: Washington lawmakers propose stricter regulation of oil trains http://t.co/Ns2vYoPcxU via @fox12oregon #CBRSafetyAct | LABEL: Oil & Gas | PROBABILITY: 0.8\n",
      "TEXT: First responders likely wouldn't fight oil-train fire in Seattle rail tunnel http://t.co/TTUMJgFgId via @seattlepi #CBRSafetyAct | LABEL: Oil & Gas | PROBABILITY: 0.8\n",
      "TEXT: Cantwell discusses threat of oil train catastrophe with Tri-City officials http://t.co/YzS2F5bGS8 via @TriCityHerald #CBRSafetyAct | LABEL: Oil & Gas | PROBABILITY: 0.8\n",
      "TEXT: \"Sen. Maria Cantwell promotes oil train safety bill\" READ MORE: http://t.co/gIHeFg7qCg via @SpokesmanReview #CBRSafetyAct | LABEL: Oil & Gas | PROBABILITY: 0.8\n",
      "TEXT: Sen. Maria Cantwell, Spokane city leaders come together for oil train tank car legislation http://t.co/G30k2BWphp via @KHQLocalNews | LABEL: Oil & Gas | PROBABILITY: 0.8\n",
      "TEXT: North Dakota's new oil train safety checks seen missing risks http://t.co/R1AJaLnlk5 via @Reuters | LABEL: Oil & Gas | PROBABILITY: 0.8\n",
      "TEXT: Senators Introduce Legislation After Series Of Oil Train Accidents http://t.co/9FSkHXHFPE via @HuffPostPol #CBRSafetyAct | LABEL: Oil & Gas | PROBABILITY: 0.8\n",
      "TEXT: ‘Get them off rails now,’ Sen. Cantwell says of some oil tank cars http://t.co/OYjv60S2dD | LABEL: Oil & Gas | PROBABILITY: 0.8\n",
      "TEXT: Senate Dems seek stronger oil train safety rules http://t.co/UnLs35x6w9 via @thehill | LABEL: Oil & Gas | PROBABILITY: 0.8\n",
      "TEXT: RT @TysonSlocum: my statement praising @SenatorCantwell #CBRSafetyAct 2 improve #CrudebyRail safety @RegsRock #oil http://t.co/47sl5ykoSK | LABEL: Oil & Gas | PROBABILITY: 0.8\n",
      "TEXT: Senate leader says safety lacking for oil transport by rail http://t.co/pli9X4rP38 | LABEL: Oil & Gas | PROBABILITY: 0.8\n",
      "TEXT: RT @RegsRock: Sensible safeguards would mean safer oil trains. #oiltrains #safety #regulations #regsrock http://t.co/tFgynBXtBr | LABEL: Oil & Gas | PROBABILITY: 0.8\n",
      "TEXT: Federal oil train rules are inadequate via @theolympian http://t.co/80XRV4TbxB | LABEL: Oil & Gas | PROBABILITY: 0.8\n",
      "TEXT: \"In Our View: Patience Runs Thin On Oil\" @thecolumbian: \"Sen. Cantwell makes commendable push for stricter rules\" http://t.co/SGgTigcdff | LABEL: Oil & Gas | PROBABILITY: 0.8\n",
      "TEXT: RT @komonews Train carrying crude oil derails, explodes near Illinois city http://t.co/hH4B3ths10 …#oiltrains #CrudebyRail #derailment | LABEL: Oil & Gas | PROBABILITY: 0.8\n",
      "TEXT: Cantwell proposes bill to fast-track oil train safety standards  http://t.co/G8RbN9Tw3A via @McClatchyDC | LABEL: Oil & Gas | PROBABILITY: 0.8\n",
      "TEXT: Cantwell urges Senate to consider amendment to close loophole in Oil Spill Liability Trust Fund. #KXL WATCH HERE: http://t.co/miUhVew0Cd | LABEL: Oil & Gas | PROBABILITY: 0.9\n",
      "TEXT: Cantwell: “I want to make sure that tar sands producers pay into the Oil Spill Liability Trust Fund.” #KXL | LABEL: Oil & Gas | PROBABILITY: 0.9\n",
      "TEXT: Cantwell: “I will introduce legislation to make sure other corporations moving tar sands oil into US pay into Oil Spill Trust Fund.” #KXL | LABEL: Oil & Gas | PROBABILITY: 0.9\n",
      "TEXT: Secured through @fema Port Security Grant, @vancouverUS ‘s “Discovery” is 1 of 3 vessels in Columbia River emergency response fleet. | LABEL: Sea Transport | PROBABILITY: 1.0\n",
      "TEXT: Headline from @seattlepi: ‘Move now on mandatory oil train safety, Cantwell tells @USDOT boss.’ http://t.co/j7wDncrdOD | LABEL: Oil & Gas | PROBABILITY: 0.8\n",
      "TEXT: Cantwell in @seattlepi on oil trains in WA state: ‘About 11 trains a day, to our population centers, is a big deal’ http://t.co/lwVyU8FYKW | LABEL: Oil & Gas | PROBABILITY: 0.8\n",
      "TEXT: Headline in the @SpokesmanReview: ‘Cantwell chides oil train regulation process’ Read the story here: http://t.co/JHBOJtpxwE | LABEL: Oil & Gas | PROBABILITY: 0.8\n",
      "TEXT: Cantwell on oil trains: “We have to prove that the public is going to be safe here.” | LABEL: Oil & Gas | PROBABILITY: 0.8\n",
      "TEXT: WATCH LIVE: Cantwell asks questions about ensuring the safety of crude oil traveling by rail in WA state: http://t.co/L5brp6BQ7w | LABEL: Oil & Gas | PROBABILITY: 0.8\n",
      "TEXT: Cantwell, @RonWyden request analysis of how U.S. #oil exports would affect #gas prices. http://t.co/oSLcLwKnYL | LABEL: Oil & Gas | PROBABILITY: 0.9\n",
      "TEXT: RT @KPLU: Shipbuilders to Senators: Help Us Modernize Vessels, Create Jobs http://t.co/BkNO6VCaaA | LABEL: Sea Transport | PROBABILITY: 1.0\n",
      "TEXT: Maritime listening session: Tom Albro, @PortofSeattle President says ½ of total U.S. catch is from vessels that call Seattle home. | LABEL: Sea Transport | PROBABILITY: 1.0\n",
      "TEXT: Good News! @HHS announces new initiative, championed by Cantwell, that will improve #mentalhealth parity in insurance coverage. | LABEL: Insurance | PROBABILITY: 1.0\n",
      "TEXT: PIC: Cantwell gets an update on state-of-the-art vessels built at Dakota Creek Industries and creating Anacortes jobs http://t.co/o3mxaQuMXc | LABEL: Sea Transport | PROBABILITY: 1.0\n",
      "TEXT: Cantwell says ‘it’s time to modernize our oil spill cleanup toolbox.’ Read more here: http://t.co/TjzGbGWwdi | LABEL: Oil & Gas | PROBABILITY: 0.8\n"
     ]
    }
   ],
   "source": [
    "cats_above_threshhold(industry_models['BDT'], tweet_text, .8)"
   ]
  },
  {
   "cell_type": "markdown",
   "metadata": {},
   "source": [
    "### Investigating a tweet a little further"
   ]
  },
  {
   "cell_type": "markdown",
   "metadata": {},
   "source": [
    "Given a score of 1.0 for 'Sea Transport' by BDT"
   ]
  },
  {
   "cell_type": "code",
   "execution_count": 39,
   "metadata": {
    "collapsed": true
   },
   "outputs": [],
   "source": [
    "sample2 = \"Maritime listening session: Tom Albro, @PortofSeattle President says ½ of total U.S. catch is from vessels that call Seattle home.\""
   ]
  },
  {
   "cell_type": "markdown",
   "metadata": {},
   "source": [
    "All but MNB call it 'Sea Transport'"
   ]
  },
  {
   "cell_type": "code",
   "execution_count": 40,
   "metadata": {
    "collapsed": false,
    "scrolled": true
   },
   "outputs": [
    {
     "name": "stdout",
     "output_type": "stream",
     "text": [
      "BDT:\tSea Transport\n",
      "LOG:\tSea Transport\n",
      "MNB:\tTelecom Services\n",
      "SVM:\tSea Transport\n"
     ]
    }
   ],
   "source": [
    "for k,v in industry_models.items():\n",
    "    print (k + \":\\t\" + str(v.predict([sample2])[0]))"
   ]
  },
  {
   "cell_type": "markdown",
   "metadata": {},
   "source": [
    "But only gets a 0.0909 for 'Sea Transport' for SVM, despite that being the top choice."
   ]
  },
  {
   "cell_type": "code",
   "execution_count": 41,
   "metadata": {
    "collapsed": false
   },
   "outputs": [
    {
     "data": {
      "text/plain": [
       "[('Agricultural Services/Products', 0.016306075422533258),\n",
       " ('Air Transport', 0.017767566288701523),\n",
       " ('Automotive', 0.016785773477096842),\n",
       " ('Beer, Wine & Liquor', 0.014543140339573083),\n",
       " ('Building Materials & Equipment', 0.019180511374422466),\n",
       " ('Business Services', 0.021792513621531916),\n",
       " ('Casinos/Gambling', 0.014651109528171386),\n",
       " ('Chemical & Related Manufacturing', 0.017902814411376974),\n",
       " ('Commercial Banks', 0.015961804292846386),\n",
       " ('Construction Services', 0.013332173721641572),\n",
       " ('Electric Utilities', 0.018485654119863467),\n",
       " ('Electronics Mfg & Equip', 0.040993951716752144),\n",
       " ('Finance/Credit Companies', 0.014131133374126482),\n",
       " ('Food & Beverage', 0.021131613134399069),\n",
       " ('Food Processing & Sales', 0.017186906834030066),\n",
       " ('Forestry & Forest Products', 0.016030085912031315),\n",
       " ('General Contractors', 0.013734313982763152),\n",
       " ('Health Professionals', 0.013934770015045729),\n",
       " ('Health Services/HMOs', 0.017928321996977477),\n",
       " ('Home Builders', 0.017148387999421963),\n",
       " ('Hospitals/Nursing Homes', 0.014353750011950288),\n",
       " ('Insurance', 0.016609086552333806),\n",
       " ('Lawyers/Law Firms', 0.013307753138932151),\n",
       " ('Lodging/Tourism', 0.017859473369446294),\n",
       " ('Mining', 0.014626102871009941),\n",
       " ('Misc Energy', 0.014397905050655116),\n",
       " ('Misc Finance', 0.014306853998522856),\n",
       " ('Misc Manufacturing & Distributing', 0.026451736502903993),\n",
       " ('Misc Services', 0.017035978916590658),\n",
       " ('Misc Transport', 0.014784206873828781),\n",
       " ('Oil & Gas', 0.022137380351890473),\n",
       " ('Pharmaceuticals/Health Products', 0.068021948527200532),\n",
       " ('Poultry & Eggs', 0.014670616977137471),\n",
       " ('Printing & Publishing', 0.016669692439960127),\n",
       " ('Railroads', 0.01522944857555943),\n",
       " ('Real Estate', 0.024983253879249465),\n",
       " ('Recreation/Live Entertainment', 0.014809974919953974),\n",
       " ('Retail Sales', 0.023852348549394751),\n",
       " ('Savings & Loans', 0.017505408231521871),\n",
       " ('Sea Transport', 0.090877713805364427),\n",
       " ('Securities & Investment', 0.01762209293619417),\n",
       " ('Special Trade Contractors', 0.014262010528687015),\n",
       " ('Steel Production', 0.016224443725300654),\n",
       " ('TV/Movies/Music', 0.021640448988847576),\n",
       " ('Telecom Services', 0.023678672357715636),\n",
       " ('Telephone Utilities', 0.018223397531920388),\n",
       " ('Textiles', 0.014483762656832346),\n",
       " ('Tobacco', 0.013795114808001434),\n",
       " ('Trucking', 0.01446222536442408),\n",
       " ('Waste Management', 0.014188575995364142)]"
      ]
     },
     "execution_count": 41,
     "metadata": {},
     "output_type": "execute_result"
    }
   ],
   "source": [
    "list(zip(industry_models['LOG'].classes_, industry_models['LOG'].predict_proba([sample2])[0]))"
   ]
  },
  {
   "cell_type": "markdown",
   "metadata": {},
   "source": [
    "Not that many samples! (Though still top half of categories, unfortunately.)"
   ]
  },
  {
   "cell_type": "code",
   "execution_count": 42,
   "metadata": {
    "collapsed": false,
    "scrolled": true
   },
   "outputs": [
    {
     "data": {
      "text/plain": [
       "39"
      ]
     },
     "execution_count": 42,
     "metadata": {},
     "output_type": "execute_result"
    }
   ],
   "source": [
    "len(companies[companies.Industry==\"Sea Transport\"])"
   ]
  },
  {
   "cell_type": "markdown",
   "metadata": {},
   "source": [
    "## Add in donations data"
   ]
  },
  {
   "cell_type": "code",
   "execution_count": 43,
   "metadata": {
    "collapsed": false
   },
   "outputs": [],
   "source": [
    "with open(\"../data/donations/donations_industry.json\", 'r') as f:\n",
    "    donations_industry = json.load(f)"
   ]
  },
  {
   "cell_type": "markdown",
   "metadata": {},
   "source": [
    "For all given twitter_ids, highlight high-scoring ones (only within high-donation industries if requested)"
   ]
  },
  {
   "cell_type": "code",
   "execution_count": 44,
   "metadata": {
    "collapsed": true
   },
   "outputs": [],
   "source": [
    "def locate_conflicts(twitter_ids = [], filter_by_donations = True, model = None, threshold = -1):\n",
    "    if isinstance(twitter_ids, str):\n",
    "        twitter_ids = [twitter_ids]\n",
    "        \n",
    "    for t in twitter_ids:\n",
    "        \n",
    "        try:\n",
    "            print(\"---USER: \" + t + \"---\")\n",
    "\n",
    "            # gather relevant industry names (sources of potential conflicts of interest)\n",
    "            ilist = donations_industry[df[df.twitter_id == t][\"opensecrets\"].values[0]]['response']['industries']['industry'] \n",
    "            inames = [i['@attributes']['industry_name'] for i in ilist]\n",
    "\n",
    "            # gather all tweets\n",
    "            tweets = []\n",
    "            for line in open(searched_tweets_location + t + '.json','r'):\n",
    "                tweets.append(json.loads(line))\n",
    "            tweet_text = [t['text'] for t in tweets]\n",
    "\n",
    "            print(\"TOTAL # OF TWEETS: \" + str(len(tweet_text)))\n",
    "            print(\"\")\n",
    "\n",
    "            if len(tweet_text) == 0:\n",
    "                continue\n",
    "        \n",
    "            # score tweets and print relevant ones        \n",
    "            if filter_by_donations:\n",
    "                cats_above_threshhold(model, tweet_text, threshold, inames)\n",
    "            else:\n",
    "                cats_above_threshhold(model, tweet_text, threshold)\n",
    "        except:\n",
    "            print(\"ERROR ON TWITTER_ID: \" + t)\n",
    "        \n",
    "        print(\"\")"
   ]
  },
  {
   "cell_type": "markdown",
   "metadata": {},
   "source": [
    "### Some sample experimentation"
   ]
  },
  {
   "cell_type": "markdown",
   "metadata": {},
   "source": [
    "Some tweets which may not necessarily be conflicts of interest..."
   ]
  },
  {
   "cell_type": "code",
   "execution_count": 45,
   "metadata": {
    "collapsed": false
   },
   "outputs": [
    {
     "name": "stdout",
     "output_type": "stream",
     "text": [
      "---USER: 43910797---\n",
      "TOTAL # OF TWEETS: 2865\n",
      "\n",
      "TEXT: Shameful for politicians with taxpayer-funded healthcare to ‘gamble’ with the insurance of 900,000 Ohioans. https://t.co/h3UHmxNAaB | LABEL: Insurance | PROBABILITY: 1.0\n",
      "TEXT: Dan was billed nearly $17k for his ER care—despite having health insurance. My new legislation will protect folks f… https://t.co/AxB69Ed6Y1 | LABEL: Insurance | PROBABILITY: 1.0\n",
      "TEXT: RT @WhiteHouse: \"So do another 3 million children\" —@POTUS on kids who have gained insurance since he took office https://t.co/3uyu39axca | LABEL: Insurance | PROBABILITY: 1.0\n",
      "TEXT: TY #SCOTUS for reaffirming what health law is about: helping families purchase affordable health insurance. #ACAworks http://t.co/m3dRSGpzRx | LABEL: Insurance | PROBABILITY: 1.0\n",
      "TEXT: New @BPC_Bipartisan report calls for extension of Children's Health Insurance. Our bill would extend for 4 years: http://t.co/QVsM46As4T | LABEL: Insurance | PROBABILITY: 1.0\n",
      "TEXT: All Americans deserve access to primary care, regardless of source of insurance. My bill would ensure access: http://t.co/tUWzP8UThC | LABEL: Insurance | PROBABILITY: 1.0\n",
      "TEXT: W/#ACA, Jumaane bought insurance for himself &amp; his son for the 1st time. OH tell SCOTUS #DontTakeMyCare #KingvBurwell http://t.co/SiubOmp4iv | LABEL: Insurance | PROBABILITY: 1.0\n",
      "TEXT: Want to get #getcovered for health insurance starting Feb. 1? Sign up at http://t.co/nlHUOkKaLY | LABEL: Insurance | PROBABILITY: 1.0\n",
      "TEXT: Spoke on Senate floor to urge extension of unemployment insurance 4 nearly 60k Ohioans whose #UI benefits have lapsed http://t.co/1XBGz0q21d | LABEL: Insurance | PROBABILITY: 1.0\n",
      "TEXT: Our economy is still recovering, extending unemployment insurance would help 128K hardworking Ohioans #SOTU #renewUI http://t.co/ewv464wrPl | LABEL: Insurance | PROBABILITY: 1.0\n",
      "TEXT: 128,00 Ohioans who will lose their emergency unemployment insurance in 2014 if an extension is not passed. #renewUI | LABEL: Insurance | PROBABILITY: 1.0\n",
      "TEXT: Because of the #ACA thousands of Ohioans have received an average insurance premium rebate of $133 per family in 2012 http://t.co/NQFi8zy0ay | LABEL: Insurance | PROBABILITY: 1.0\n",
      "TEXT: SB: \"I remain extremely concerned abt enormous strain this drug will place on Medicaid budgets and patients with private health insurance\" | LABEL: Insurance | PROBABILITY: 1.0\n",
      "TEXT: SB: 1yr later #hcr doing exactly what it was designed 2 do: ensure consumer is in drivers seat 4 health insurance http://tinyurl.com/4jl2zhb | LABEL: Insurance | PROBABILITY: 1.0\n",
      "TEXT: Sen Brown on #Unemployment Insurance extension on WHKO radio in #Dayton http://bit.ly/fzVpcs #ohio #jobs #UI | LABEL: Insurance | PROBABILITY: 1.0\n",
      "TEXT: Sen Brown on Efforts to extend Unemployment Insurance Benefits http://youtu.be/3oqKn7EfKj4 #Ohio #UI | LABEL: Insurance | PROBABILITY: 1.0\n",
      "TEXT: statement on #senate passage of #unemployment insurance extension http://bit.ly/c9O4pt #ui #unemployed #jobs #ohio | LABEL: Insurance | PROBABILITY: 1.0\n",
      "TEXT: still pressing for an #unemployment insurance extension http://youtu.be/qzoss_QhJJ4 #UI #unemployed #jobs | LABEL: Insurance | PROBABILITY: 1.0\n",
      "TEXT: From Face The Nation: \"If we do nothing, insurance premiums will double.\" - staff | LABEL: Insurance | PROBABILITY: 1.0\n",
      "TEXT: From Face The Nation: \"This bill has good insurance reform - no more pre-x and strengthens Medicare. \" -Staff | LABEL: Insurance | PROBABILITY: 1.0\n",
      "TEXT: Just passed Mikulski amdt. Women pay more for health insurance? No more.  Women denied coverage bc of preexisting condition? Not. Sherrod | LABEL: Insurance | PROBABILITY: 1.0\n",
      "TEXT: \"We need a public option that protects from insurance that is unaffordable, unresponsive, and unreliable.\" (Brown moments ago). | LABEL: Insurance | PROBABILITY: 1.0\n",
      "TEXT: \"We need a public option to compete with private insurance...that will offer coverage in every corner of the country,\" (Brown moments ago) | LABEL: Insurance | PROBABILITY: 1.0\n",
      "TEXT: \"Under current plan we are working on, everyone can stay on their parents' (insurance) plan until they are 26.\" - from Cleveland town hall. | LABEL: Insurance | PROBABILITY: 1.0\n",
      "TEXT: \"Public option will keep insurance companies honest, give people better choices.\" -  Sen. Brown at Cleveland town hall happening now. | LABEL: Insurance | PROBABILITY: 1.0\n",
      "TEXT: Video from moments ago as Sen. Brown headed to Pres. Obama's historic speech on health insurance reform #publicoption http://bit.ly/tlhz5 | LABEL: Insurance | PROBABILITY: 1.0\n",
      "TEXT: New video of Brown today fighting for  a public  option -- nearly 400 Ohioans lose their health insurance every day.  http://bit.ly/IqrJ4 | LABEL: Insurance | PROBABILITY: 1.0\n",
      "\n",
      "---USER: 117501995---\n",
      "TOTAL # OF TWEETS: 3199\n",
      "\n",
      "\n",
      "---USER: 109071031---\n",
      "TOTAL # OF TWEETS: 3220\n",
      "\n",
      "TEXT: Nonpartisan @USCBO just announced if GOP repeals the #ACA, 18 MILLION Americans will lose insurance within the year https://t.co/ihX3bKEEzv | LABEL: Insurance | PROBABILITY: 1.0\n",
      "TEXT: In MD, more than 400,000 have insurance under the #ACA. That figure is in the millions nationwide. Republicans: sho… https://t.co/Su1qEv1jv7 | LABEL: Insurance | PROBABILITY: 1.0\n",
      "TEXT: 421,000 Marylanders have insurance under the #ACA, when they had none before. Republicans: what's your plan for the… https://t.co/cwV0NZRw4E | LABEL: Insurance | PROBABILITY: 1.0\n",
      "TEXT: 421,000 Marylanders have health insurance under the #ACA. What's Republicans' plan for them? #MakeAmericaSickAgain\n",
      "\n",
      "https://t.co/O1xMLGd1rg | LABEL: Insurance | PROBABILITY: 1.0\n",
      "TEXT: Republicans' plan to #repeal the #ACA will take us back to a time when insurance companies could discriminate again… https://t.co/NK8SEoN8b3 | LABEL: Insurance | PROBABILITY: 1.0\n",
      "TEXT: If Republicans repeal #ACA, 4.3 million Americans will immediately lose insurance. 30 mil will be impacted long ter… https://t.co/daImxGhZtB | LABEL: Insurance | PROBABILITY: 1.0\n",
      "TEXT: MD, it's the LAST DAY to sign up for 2017 health insurance. Enroll and see if you qualify for help here: https://t.co/tyGRDH9seI #GetCovered | LABEL: Insurance | PROBABILITY: 1.0\n",
      "TEXT: 9 in 10 Marylanders receive financial help with @MarylandConnect health insurance. See if you qualify before 12/15!… https://t.co/RRqY5gNigC | LABEL: Insurance | PROBABILITY: 1.0\n",
      "TEXT: Maryland: Reminder, only 3 DAYS left to enroll in 2017 health insurance with our own @MarylandConnect. #GetCovered:… https://t.co/4bIGEwd0Qa | LABEL: Insurance | PROBABILITY: 1.0\n",
      "TEXT: RT @JennaTKahn: .@SenatorCardin I rely on health insurance as I have a \"pre-existing condition\" - bipolar disorder. Free birth control help… | LABEL: Insurance | PROBABILITY: 1.0\n",
      "TEXT: #CoverageMatters for millions of Americans who depend on their health insurance. But each story is unique. Tell me yours. | LABEL: Insurance | PROBABILITY: 1.0\n",
      "TEXT: Don't forget open enrollment is happening now. Even if you have health insurance, you may qualify for financial hel… https://t.co/E2dExTGsGQ | LABEL: Insurance | PROBABILITY: 1.0\n",
      "TEXT: .@HHSGov estimates 31,000 MDers w/ off-market health insurance are eligible for tax credits. Check your eligibility: https://t.co/6cgxxksCsz | LABEL: Insurance | PROBABILITY: 1.0\n",
      "TEXT: Great news on the #healthcare front ... \"About 4 million Americans gained health insurance last year\" https://t.co/0gAlynL7Au | LABEL: Insurance | PROBABILITY: 1.0\n",
      "TEXT: Thanks to the #ACA, for the first time ever, more than 9 in 10 Americans now have health insurance. #ACAanniversary | LABEL: Insurance | PROBABILITY: 1.0\n",
      "TEXT: RT @genprogress: Choose your insurance plan that will be there to cover the care you need. #GetCovered and join #MillennialMon TODAY at 3PM… | LABEL: Insurance | PROBABILITY: 1.0\n",
      "\n",
      "---USER: 249787913---\n",
      "TOTAL # OF TWEETS: 3238\n",
      "\n",
      "TEXT: Trump said he doesn't want people to get hurt. But this would create chaos in the health insurance marketplace and,… https://t.co/Nv0bLkb7ds | LABEL: Insurance | PROBABILITY: 1.0\n",
      "TEXT: More than 83,000 Delawareans would lose health insurance under #Trumpcare. Cruel and unconscionable. #KillTheBill… https://t.co/YdMEpJ7iuT | LABEL: Insurance | PROBABILITY: 1.0\n",
      "TEXT: Under the GOP health plan, 14 million Americans will lose their insurance by 2018. The number would balloon to 24 million Americans by 2026. | LABEL: Insurance | PROBABILITY: 1.0\n",
      "TEXT: #Trumpcare makes insurance less affordable for more Americans, and hurts the most vulnerable Americans among us https://t.co/Xxr3QIWPEK | LABEL: Insurance | PROBABILITY: 1.0\n",
      "TEXT: The GOP’s #RepealAndRun plan is creating instability in the insurance markets &amp; insecurity for millions of families https://t.co/vFuJOsBLPw | LABEL: Insurance | PROBABILITY: 1.0\n",
      "TEXT: Under #RepealAndRun? Health insurance premiums in the individual market will skyrocket—increasing up to 25% immediately and doubling by 2026 | LABEL: Insurance | PROBABILITY: 1.0\n",
      "TEXT: Repealing the ACA will hurt states' efforts to provide treatment for those suffering with addiction https://t.co/ymras8bCzZ | LABEL: Pharmaceuticals/Health Products | PROBABILITY: 1.0\n",
      "TEXT: Congress must #DoNoHarm to the thousands of Delawareans who gained health insurance through the Affordable Care Act https://t.co/HcUkJpOvHE | LABEL: Insurance | PROBABILITY: 1.0\n",
      "TEXT: I voted “no” for the 30,000 Delawareans who have gained health insurance through the ACA. Their #CoverageMatters. https://t.co/UPaz5TCh0t | LABEL: Insurance | PROBABILITY: 1.0\n",
      "TEXT: The #CuresAct secures much needed funding for prevention and treatment programs in Delaware to help those struggling with opioid addictions | LABEL: Pharmaceuticals/Health Products | PROBABILITY: 1.0\n",
      "TEXT: Today I stopped by @westsidehealth to meet w/ health insurance marketplace guides. Go to https://t.co/wJE4d6Nzft fo… https://t.co/l6JZoSAuaE | LABEL: Insurance | PROBABILITY: 1.0\n",
      "TEXT: Nov. 1 kicks off Open Enrollment for the Health Insurance Marketplace. I urge Delawareans to #GetCovered &amp; visit https://t.co/3KDAz9OcAn | LABEL: Insurance | PROBABILITY: 1.0\n",
      "TEXT: These actions by @POTUS will expand access to treatment for prescription drug and #opioid addiction https://t.co/HpxAS1aZVA | LABEL: Pharmaceuticals/Health Products | PROBABILITY: 1.0\n",
      "TEXT: To address this epidemic, we need to focus on prevention, treatment &amp; access to treatment for those suffering with substance abuse disorders | LABEL: Pharmaceuticals/Health Products | PROBABILITY: 1.0\n",
      "TEXT: RT @SenThomTillis: [Infographic]: The Treatment of Certain Payments in Eugenics Compensation Act: https://t.co/14nJDtPYT4 https://t.co/FeC0… | LABEL: Pharmaceuticals/Health Products | PROBABILITY: 1.0\n",
      "TEXT: RT @WhiteHouse: \"When it comes to substance abuse, treatment and recovery…those things are possible if we work together\" —@POTUS: https://t… | LABEL: Pharmaceuticals/Health Products | PROBABILITY: 1.0\n",
      "TEXT: 25k  Delawareans signed up for health insurance this year using the @ChooseHealthDE #ACA marketplace -- up 74% from last year #netDE | LABEL: Insurance | PROBABILITY: 1.0\n",
      "TEXT: Children's Health Insurance Program covers 10M low-income kids in working families. Show kids the love, #ExtendCHIP. http://t.co/IUVWVNPGkv | LABEL: Insurance | PROBABILITY: 1.0\n",
      "TEXT: As many as 700 immigrants in #DE who bought health insurance through #ACA need to verify eligibility by tomorrow! http://t.co/mcnm6iwZqL | LABEL: Insurance | PROBABILITY: 1.0\n",
      "TEXT: Last year 40M Americans had no health insurance. As @sarahkliff reports, uninsured rate dropped 22% since Dec! #ACA http://t.co/wXYMmMFcXP | LABEL: Insurance | PROBABILITY: 1.0\n",
      "TEXT: MT @whitehouse: Some inspiration from students in Alabama who are helping people sign up for health insurance → http://t.co/7fzpLgD667 | LABEL: Insurance | PROBABILITY: 1.0\n",
      "TEXT: I encourage the uninsured in Sussex County to go to DelTech in Georgetown today to #GetCovered w/healthcare insurance http://t.co/L7RemrQSg5 | LABEL: Insurance | PROBABILITY: 1.0\n",
      "TEXT: Our state’s economy has lost nearly $5M emergency unemployment insurance expired. Time to #RenewUI (2/2) #netde | LABEL: Insurance | PROBABILITY: 1.0\n",
      "TEXT: State economies in US have lost $2.2B since emergency unemployment insurance expired. Time to #RenewUI (1/2) | LABEL: Insurance | PROBABILITY: 1.0\n",
      "TEXT: Thanks to #ACA, millions of woman at risk for breast cancer can now receive preventative treatment at no cost. http://t.co/6vfyRGVmHK | LABEL: Pharmaceuticals/Health Products | PROBABILITY: 1.0\n",
      "TEXT: Check out this @CenterOnBudget explanation of Unemployment Insurance. Benefits go to states most in need. #renewUI http://t.co/oHDpKEhBJj | LABEL: Insurance | PROBABILITY: 1.0\n",
      "\n",
      "---USER: 171598736---\n",
      "TOTAL # OF TWEETS: 3246\n",
      "\n",
      "TEXT: These stats don't even account for the outrageous treatment of Merrick Garland by @SenateGOP #StopGorsuch | LABEL: Pharmaceuticals/Health Products | PROBABILITY: 1.0\n",
      "TEXT: It seems @realDonaldTrump still doesn't get it: @USCBO has debunked this claim. Stability of insurance markets will… https://t.co/wS7umG9Sz7 | LABEL: Insurance | PROBABILITY: 1.0\n",
      "TEXT: RT @JECDems: .@SenBobCasey PA Medicaid share of opioid treatment payments is 29.2%. 0 states would be required to use Medicaid funds to cov… | LABEL: Pharmaceuticals/Health Products | PROBABILITY: 1.0\n",
      "TEXT: .@JECDems Pennsylvania is still reeling from the opioid crisis. What is the Medicaid share of treatment payments under #Trumpcare? | LABEL: Pharmaceuticals/Health Products | PROBABILITY: 1.0\n",
      "TEXT: RT @bctimes: @SenBobCasey “Older Americans get robbed -- robbed -- while insurance companies get rich.\" https://t.co/2Q9Xs7CpqN | LABEL: Insurance | PROBABILITY: 1.0\n",
      "TEXT: .@SpeakerRyan So we're just going to ignore the fact that 24 million people would lose their insurance under the GO… https://t.co/4JmmUCQ02l | LABEL: Insurance | PROBABILITY: 1.0\n",
      "TEXT: .@USCBO How much worse will the opioid crisis get, now that addiction treatment is no longer covered under #Trumpcare? #NoScoreNoVote | LABEL: Pharmaceuticals/Health Products | PROBABILITY: 1.0\n",
      "TEXT: How can you possibly justify dropping the addiction treatment mandate in the middle of an opioid crisis? https://t.co/CK0UFBZshA | LABEL: Pharmaceuticals/Health Products | PROBABILITY: 1.0\n",
      "TEXT: .@realDonaldTrump you told Congress that \"we will expand treatment for those who have become so badly addicted.\" https://t.co/KZ12muzO0R | LABEL: Pharmaceuticals/Health Products | PROBABILITY: 1.0\n",
      "TEXT: GOP health care \"plan\" is a prescription for higher premiums, fewer people covered and insurance that doesn't prote… https://t.co/k0QNerycFi | LABEL: Insurance | PROBABILITY: 1.0\n",
      "TEXT: RT @DemsOnAging: The ACA prohibits insurance companies from denying coverage based on health. | LABEL: Insurance | PROBABILITY: 1.0\n",
      "TEXT: The @SenateGOP #ACA repeal means 956,000 in PA would lose their health insurance. I will fight for care, not chaos. https://t.co/JjIbvpvUJu | LABEL: Insurance | PROBABILITY: 1.0\n",
      "TEXT: Immigrants brought to country as young children deserve humane treatment &amp; a fair shot #HereToStay | LABEL: Pharmaceuticals/Health Products | PROBABILITY: 1.0\n",
      "TEXT: .@senategop budget resolution will put insurance companies back in charge- allow discrimination bc of pre-existing condition again. | LABEL: Insurance | PROBABILITY: 1.0\n",
      "TEXT: 6 years later, 20 million people have gained health insurance\n",
      "coverage because of #ACA #20MillionStrong #ACATurns6 https://t.co/w4NbckhAAE | LABEL: Insurance | PROBABILITY: 1.0\n",
      "TEXT: RT @TimesHeraldPA: .@SenBobCasey, @VAArk speak out for more funding for heroin and opioid treatment - http://t.co/19T1lA2zqv http://t.co/BE… | LABEL: Pharmaceuticals/Health Products | PROBABILITY: 1.0\n",
      "TEXT: RT @MontcoPA: Commissioner @VAArk standing with @SenBobCasey to support more funding for Heroin &amp; Opiate Addiction Treatment http://t.co/gD… | LABEL: Pharmaceuticals/Health Products | PROBABILITY: 1.0\n",
      "TEXT: Visiting a local addiction treatment provider to discuss a new plan to help fund prevention of opioid addiction. http://t.co/puvse93aMQ | LABEL: Pharmaceuticals/Health Products | PROBABILITY: 1.0\n",
      "TEXT: RT @ChildWelfareHub: .@SenBobCasey Introduces Bill to Fix Glitch that Could Kick Former Foster Youth Off of Medicaid | Insurance News Net h… | LABEL: Insurance | PROBABILITY: 1.0\n",
      "TEXT: It seems my Republican colleagues have an obsession with denying health insurance coverage to millions of Americans #ACAWorks | LABEL: Insurance | PROBABILITY: 1.0\n",
      "TEXT: Since the #ACA became law 5 yrs ago, 16.4 million people have gained insurance coverage. Plain and simple, #ACAworks http://t.co/zvEyShYIxk | LABEL: Insurance | PROBABILITY: 1.0\n",
      "\n",
      "---USER: 73303753---\n",
      "TOTAL # OF TWEETS: 3237\n",
      "\n",
      "TEXT: Learn more about the bill we introduced to rescue Americans with zero options for insurance on the ACA exchanges: https://t.co/NJclNIuKmF | LABEL: Insurance | PROBABILITY: 1.0\n",
      "TEXT: .@Sebelius: “I have not tried signing up [for #ObamaCare], b/c I have insurance.”  My fam, staff &amp; I enroll Jan 1. #IsObamaOnObamacare? -BC | LABEL: Insurance | PROBABILITY: 1.0\n",
      "\n",
      "---USER: 476256944---\n",
      "TOTAL # OF TWEETS: 3231\n",
      "\n",
      "\n",
      "---USER: 262756641---\n",
      "TOTAL # OF TWEETS: 3204\n",
      "\n",
      "TEXT: RT @themommacrae: @SenOrrinHatch we no longer have health insurance because we can't pay the tripled premiums. | LABEL: Insurance | PROBABILITY: 1.0\n",
      "TEXT: 3 years ago her son was diagnosed with a rare disease. 3 weeks ago she got word her insurance costs were going to s… https://t.co/Gi0rxvct8W | LABEL: Insurance | PROBABILITY: 1.0\n",
      "TEXT: RT @GOPSenFinance: Today, Finance bipartisan Chronic Care working groups released proposals to improve treatment. Read here: https://t.co/u… | LABEL: Pharmaceuticals/Health Products | PROBABILITY: 1.0\n",
      "TEXT: Hatch, meeting w/ local biz leaders today on the terrible impact of the Health Insurance Tax. #utpol #Obamacare https://t.co/Nid7Nrf3bl | LABEL: Insurance | PROBABILITY: 1.0\n",
      "\n",
      "---USER: 57065141---\n",
      "TOTAL # OF TWEETS: 3199\n",
      "\n",
      "\n",
      "---USER: 18695134---\n",
      "TOTAL # OF TWEETS: 3188\n",
      "\n",
      "TEXT: What good is health insurance without these Essential Health Benefits? House Republican plan = No coverage.… https://t.co/xUbTMNDZR0 | LABEL: Insurance | PROBABILITY: 1.0\n",
      "TEXT: What good is health insurance without Rx drugs, hospitalization, maternity, mental health &amp; preventative care? GOP… https://t.co/eeVHYeP9X4 | LABEL: Insurance | PROBABILITY: 1.0\n",
      "TEXT: Hospitals LOSE under #Trumpcare- they will lose millions caring 4 uninsured due to thousands losing insurance.… https://t.co/8Vvi26wp1h | LABEL: Insurance | PROBABILITY: 1.0\n",
      "TEXT: Everyone's costs go up if emergency rooms are flooded bc people have no health insurance.  If we #SaveMedicaid we save money for everyone | LABEL: Insurance | PROBABILITY: 1.0\n",
      "TEXT: Sandy was a natural disaster, but the delays &amp; disputes ppl encountered in the flood insurance claims process—that… https://t.co/FgeMxDVkHl | LABEL: Insurance | PROBABILITY: 1.0\n",
      "TEXT: Sandy was a natural disaster. The awful flood insurance claims process was a man-made disaster. I intend to fix it. https://t.co/1TD3alrpIP | LABEL: Insurance | PROBABILITY: 1.0\n",
      "TEXT: GOP healthcare plan will \n",
      "Cut taxes for the super rich\n",
      "Hike taxes for middle class \n",
      "Leave millions uninsured  \n",
      "Let Big Insurance ration care | LABEL: Insurance | PROBABILITY: 1.0\n",
      "TEXT: #WednesdayWisdom: GOP's plan to gut Medicare, Medicaid and ACA will increase costs, collapse the insurance market &amp; hurt our seniors | LABEL: Insurance | PROBABILITY: 1.0\n",
      "TEXT: National Flood Insurance Program is up for reauthorization. I plan to lead the charge for a top-to-bottom overhaul.… https://t.co/6kJhVFwuq8 | LABEL: Insurance | PROBABILITY: 1.0\n",
      "TEXT: Attn Delaware Bayshore: My staff will be on hand tomorrow w/info on the Sandy flood insurance claims review process http://t.co/5A5LGR9naj | LABEL: Insurance | PROBABILITY: 1.0\n",
      "TEXT: LIVE Sandy Task Force:http://t.co/k4dLi6ZAnj \n",
      "Let’s get justice for victims who got lowballed &amp; #fixflood insurance claims process for good. | LABEL: Insurance | PROBABILITY: 1.0\n",
      "TEXT: RT @CoryBooker: Don't forget: You only have until Feb. 15 to get covered for 2015. Be sure to sign up for health insurance at http://t.co/0… | LABEL: Insurance | PROBABILITY: 1.0\n",
      "TEXT: Spoke to @CraigatFEMA abt how we must stop insurance companies from secretly undermining #SuperstormSandy claims. http://t.co/jVAPme7odx | LABEL: Insurance | PROBABILITY: 1.0\n",
      "TEXT: .@FEMA:Stop insurance companies from secretly undermining #SuperstormSandy claims. #lowballed #SwitcherooToDenyYou http://t.co/cBQp3AfiLp | LABEL: Insurance | PROBABILITY: 1.0\n",
      "TEXT: COMING UP: Hearing on #NJ #Sandy flood insurance claims process@ 9:45.Before it starts, learn abt why I'm doing this: http://t.co/MjrYOA9U7J | LABEL: Insurance | PROBABILITY: 1.0\n",
      "TEXT: Discussing #NJ homeowners seeking help w/unreasonable flood insurance premium hikes @SenateApprops hearing-WATCH LIVE:http://t.co/MKegJoyauy | LABEL: Insurance | PROBABILITY: 1.0\n",
      "TEXT: Only a few more weeks to #GetCovered. Reminding Latinos in #NJ &amp; across US to enroll for insurance ASAP @HispanicFed @CoryBooker @ArneDuncan | LABEL: Insurance | PROBABILITY: 1.0\n",
      "TEXT: ICYMI - Video &amp; photos from flood insurance press conf: http://t.co/BxJdxCg7eJ. We're glad majority of Sens voted to #FixFlood. | LABEL: Insurance | PROBABILITY: 1.0\n",
      "TEXT: Proud to stand w/co-sponsors of my flood insurance bill to tell American ppl we've passed Sen hurdle to #fixflood http://t.co/BUdxDxpmY2 | LABEL: Insurance | PROBABILITY: 1.0\n",
      "TEXT: Thrilled my flood insurance bill passed Sen w/strong 67-32 vote! Strong message to House &amp; American ppl that we will #fixflood insurance. | LABEL: Insurance | PROBABILITY: 1.0\n",
      "TEXT: On my way to @DSenFloor to urge passage of my flood insurance bill. Let's #FixFlood &amp; help Americans. WATCH LIVE: http://t.co/o2hPmDcO8t | LABEL: Insurance | PROBABILITY: 1.0\n",
      "TEXT: Strong 1st Sen vote toward making sure we #FixFlood insurance. Now, let's pass my bipartisan Homeowner Flood Insurance Affordability Act. | LABEL: Insurance | PROBABILITY: 1.0\n",
      "TEXT: Headed to talk abt how we must #FixFlood Insurance by passing my Homeowner Flood Insurance Affordability Act. WATCH: http://t.co/j3GlRMwnNK | LABEL: Insurance | PROBABILITY: 1.0\n",
      "TEXT: Getting ready to talk abt 2 issues important for #NJ families when Sen's back in session: how we can #fixflood insurance &amp; #renewUI | LABEL: Insurance | PROBABILITY: 1.0\n",
      "TEXT: #FF @SenLandrieu &amp; @SenatorIsakson who have been leading bipartisan group to #fixflood insurance w/me. Hoping we move this fwrd in Sen soon | LABEL: Insurance | PROBABILITY: 1.0\n",
      "TEXT: WATCH LIVE: Will speak on @SenateFloor on unemployment insurance. We must #renewUI: It’s abt real ppl &amp; their lives. http://t.co/j3GlRMwnNK | LABEL: Insurance | PROBABILITY: 1.0\n",
      "TEXT: New #IranSanctions don't stand in the way of diplomacy, but provide diplomatic insurance. My @PostOpinions piece: http://t.co/cvo4pxtZ7p | LABEL: Insurance | PROBABILITY: 1.0\n",
      "TEXT: VIDEO:Our flood insurance fix has some of the broadest range of support we’ve seen in Sen &amp; must become law #FixFlood http://t.co/nBgyygEi3r | LABEL: Insurance | PROBABILITY: 1.0\n",
      "TEXT: Photo: W/ @SenatorIsakson, @SenLandrieu &amp; group of Sens urging freeze on skyrocketing flood insurance premiums. http://t.co/mcbHcSjwQh | LABEL: Insurance | PROBABILITY: 1.0\n",
      "TEXT: DID YOU KNOW when NC cut unemployment insurance the labor force shrunk? (http://t.co/HmBEoKuf4o) Must avoid this nationwide &amp; #renewUI | LABEL: Insurance | PROBABILITY: 1.0\n",
      "TEXT: .@AsburyParkPress piece on unemployment insurance echoes frustration I'm hearing in #NJ: http://t.co/hOa5zVpNAs. We must #renewUI ASAP | LABEL: Insurance | PROBABILITY: 1.0\n",
      "TEXT: DID YOU KNOW that renewing unemployment insurance creates 200,000 jobs? It's very obvious we must #renewUI | LABEL: Insurance | PROBABILITY: 1.0\n",
      "TEXT: #Sandy victims are recovering from a natural disaster &amp; shouldn’t have to deal w/a manmade insurance disaster too: http://t.co/4K7WEnWfty | LABEL: Insurance | PROBABILITY: 1.0\n",
      "TEXT: Photo: In Brick, #NJ talking abt preventing skyrocketing flood insurance premiums for homeowners. http://t.co/hb3F3g2KdS | LABEL: Insurance | PROBABILITY: 1.0\n",
      "TEXT: WATCH LIVE: Heading to @SenateFloor to talk abt the benefits of Homeowners Flood Insurance Affordability Act. http://t.co/j3GlRMwnNK | LABEL: Insurance | PROBABILITY: 1.0\n",
      "TEXT: We want to see the bipartisan flood insurance fix move forward. It'll help w/#NJ #SandyRecovery. cc:@CoryBooker http://t.co/MD4NKg7rRF | LABEL: Insurance | PROBABILITY: 1.0\n",
      "TEXT: VIDEOS: Today I intro'd flood insurance legislation &amp; spoke abt #Sandy1year on the @SenateFloor. Watch here: http://t.co/FOdttpVXEj | LABEL: Insurance | PROBABILITY: 1.0\n",
      "TEXT: RT @SenatorIsakson: Happy to lead a bipartisan coalition w/ @SenatorMenendez to protect homeowners from a flood insurance rate spike http:/… | LABEL: Insurance | PROBABILITY: 1.0\n",
      "TEXT: Fighting to help ppl in #NJ afford flood insurance so they can stay in their homes. Learn more: http://t.co/rDTL7C7Abj #Sandy1year | LABEL: Insurance | PROBABILITY: 1.0\n",
      "TEXT: Intro'ing Homeowner Flood Insurance Affordability Act. We've endured a natural disaster &amp; don’t need a man-made one. http://t.co/iwpH4Gn7Es | LABEL: Insurance | PROBABILITY: 1.0\n",
      "TEXT: #NJ: I support @SenLandrieu's leg to help keep flood insurance premiums low. We don't need more post-#Sandy hardship! http://t.co/zb6PeRyGpw | LABEL: Insurance | PROBABILITY: 1.0\n",
      "TEXT: Sad that a Republican blocked an effort to stop spikes in flood insurance premiums for #NJ ppl trying to rebuild. http://t.co/giKLiziA0B | LABEL: Insurance | PROBABILITY: 1.0\n",
      "TEXT: Hard-working #NJ ppl who purchased flood insurance responsibly are being priced out of their homes. We must help them http://t.co/Xt0Z7N7yDC | LABEL: Insurance | PROBABILITY: 1.0\n",
      "TEXT: We must prevent flood insurance premiums from skyrocketing for thousands of #NJ homeowners. Read &amp; watch:http://t.co/4UsqhYBR8M | LABEL: Insurance | PROBABILITY: 1.0\n",
      "TEXT: Ppl w insurance now pay $1,000 each to cover cost of uncompensated care. #ACA increases access to insurance &amp; ensures fams get needed care | LABEL: Insurance | PROBABILITY: 1.0\n",
      "TEXT: When #NJ health exchange is up &amp; running, more than 610,000 New Jerseyans will be eligible for tax credits, making insurance more affordable | LABEL: Insurance | PROBABILITY: 1.0\n",
      "TEXT: Voted NO on @SenTedCruz amendment bc #Obamacare has enabled approx 73,000 young people in #NJ to remain on parents’ health insurance | LABEL: Insurance | PROBABILITY: 1.0\n",
      "\n",
      "---USER: 20597460---\n",
      "TOTAL # OF TWEETS: 590\n",
      "\n",
      "TEXT: It is wrong to take away health insurance for 24 million people, as well as increase the cost to seniors. | LABEL: Insurance | PROBABILITY: 1.0\n",
      "TEXT: The flood insurance bill is not everything I wanted for homeowners, but it’s significant protection from unconscionable rate increases. | LABEL: Insurance | PROBABILITY: 1.0\n",
      "TEXT: Getting ready to vote on flood insurance.  Should be in about 5 mins. | LABEL: Insurance | PROBABILITY: 1.0\n",
      "TEXT: RT @thenewspress: Sen. Bill Nelson talks flood insurance to The News-Press http://t.co/39irR5ya5Z #swfl | LABEL: Insurance | PROBABILITY: 1.0\n",
      "TEXT: The Senate is now scheduled to make an initial decision on curbing flood insurance rates on Monday, the 27th. | LABEL: Insurance | PROBABILITY: 1.0\n",
      "TEXT: Stunned that GOP House leader says he’ll block our efforts to reduce flood insurance rates.  http://t.co/Hqo6ElCzZq | LABEL: Insurance | PROBABILITY: 1.0\n",
      "TEXT: Health-insurance exchanges will help the nearly one-in-four Floridians who don’t have or cannot get affordable health insurance. | LABEL: Insurance | PROBABILITY: 1.0\n",
      "TEXT: Just read excerpts from President’s speech for tonight. I’m glad the president is proposing insurance exchanges. | LABEL: Insurance | PROBABILITY: 1.0\n",
      "TEXT: I’m in Tallahassee today meeting with Fla. CFO Alex Sink about bolstering the state’s volatile property insurance market. | LABEL: Insurance | PROBABILITY: 1.0\n",
      "\n",
      "---USER: 29442313---\n",
      "TOTAL # OF TWEETS: 3247\n",
      "\n",
      "\n",
      "---USER: 76456274---\n",
      "TOTAL # OF TWEETS: 2069\n",
      "\n",
      "TEXT: I can't believe Republicans are saying sick people shouldn't be able to buy insurance! What?? https://t.co/pwQve4hTD0 | LABEL: Insurance | PROBABILITY: 1.0\n",
      "TEXT: I voted against Republican repeal that will put insurance companies back in charge, drive up costs, take away insurance from 30mil Americans | LABEL: Insurance | PROBABILITY: 1.0\n",
      "TEXT: Republican plan will put insurance companies back in charge, cut Medicare &amp; Medicaid, drive up prescription drug co… https://t.co/RdFzZUNa4O | LABEL: Insurance | PROBABILITY: 1.0\n",
      "TEXT: Before health care reform, women were being discriminated against by their health insurance companies. No more. #ACAworks | LABEL: Insurance | PROBABILITY: 1.0\n",
      "TEXT: Don't forget to sign up for health insurance! Feb. 15 is the deadline to #GetCovered in #Michigan. http://t.co/BIkSpRSuvy | LABEL: Insurance | PROBABILITY: 1.0\n",
      "TEXT: The Ryan #GOPBudget cancels health insurance plans for millions of Americans – and raises taxes - to pay for tax breaks for the wealthy. | LABEL: Insurance | PROBABILITY: 1.0\n",
      "TEXT: Senate Votes to Extend Emergency Unemployment Insurance http://t.co/yQjMahJm8c | LABEL: Insurance | PROBABILITY: 1.0\n",
      "TEXT: Sen. Stabenow Statement on Republicans Blocking Senate Vote on Unemployment Insurance http://t.co/0EYHnvl9TB | LABEL: Insurance | PROBABILITY: 1.0\n",
      "TEXT: The Senate voted to move forward on legislation to extend emergency unemployment insurance for families out of work http://t.co/5kzJRyJ7Ah | LABEL: Insurance | PROBABILITY: 1.0\n",
      "TEXT: Sen. Stabenow Applauds Senate Vote to Move Forward on Extending Unemployment Insurance http://t.co/iFfzqOEUnZ | LABEL: Insurance | PROBABILITY: 1.0\n",
      "TEXT: Chairwoman Stabenow Announces Crop Insurance Available for MI Tart Cherry Growers for First Time Ever http://t.co/VmSWH7fGJG | LABEL: Insurance | PROBABILITY: 1.0\n",
      "TEXT: Stabenow Introduces Bill 2 Cut Taxes 4 Businesses that Put ppl Back 2 Work, Extend Unemployment Insurance Benefits http://bit.ly/bnK7jZ | LABEL: Insurance | PROBABILITY: 1.0\n",
      "TEXT: Senator Stabenow urges colleagues to vote for unemployment insurance: http://youtu.be/Nqh0NRE7WGY #Twittermarch #Tweetmarch | LABEL: Insurance | PROBABILITY: 1.0\n",
      "TEXT: Stabenow Joins President Obama As He Signs Historic Health Insurance Reform Legislation Into Law  http://bit.ly/9gl11A | LABEL: Insurance | PROBABILITY: 1.0\n",
      "TEXT: Senator Debbie Stabenow will be at the @whitehouse today to witness President @BarackObama sign historic health insurance reform into law. | LABEL: Insurance | PROBABILITY: 1.0\n",
      "TEXT: Stabenow Proud to Cast 51st Vote to Pass Health Insurance Reform http://bit.ly/5GKIHc | LABEL: Insurance | PROBABILITY: 1.0\n",
      "TEXT: Stabenow Champions Tax Cuts for Michigan Small Businesses in Senate Health Insurance Reform Bill http://bit.ly/7BQ158 | LABEL: Insurance | PROBABILITY: 1.0\n",
      "TEXT: Senate Approves Stabenow Amendment to Protect Medicare Benefits in Health Insurance Reform Legislation  http://bit.ly/8y3zGX | LABEL: Insurance | PROBABILITY: 1.0\n",
      "TEXT: Stabenow Leads Effort to Extend Unemployment Insurance in Michigan http://bit.ly/ezzN1 | LABEL: Insurance | PROBABILITY: 1.0\n",
      "TEXT: Senator Stabenow will be on the The Ed Schultz Show @ 6:50p EST, talking about unemployment insurance. | LABEL: Insurance | PROBABILITY: 1.0\n",
      "TEXT: Stabenow: Extend Unemployment Insurance Now! (Video) http://bit.ly/3jad2C #Senate | LABEL: Insurance | PROBABILITY: 1.0\n",
      "TEXT: Stabenow: Time to Stop Playing Politics and Extend Unemployment Insurance for Michigan Workers http://bit.ly/381rKB | LABEL: Insurance | PROBABILITY: 1.0\n",
      "TEXT: Stabenow Leads Effort to Improve Health Insurance for All Michigan Families  http://bit.ly/19qnT3 | LABEL: Insurance | PROBABILITY: 1.0\n",
      "TEXT: Stabenow Leads Effort to Make Health Insurance Affordable and Available for Michigan Families  http://bit.ly/4EdIO4 | LABEL: Insurance | PROBABILITY: 1.0\n",
      "\n",
      "---USER: 515822213---\n",
      "TOTAL # OF TWEETS: 2938\n",
      "\n",
      "TEXT: RT @SenDeanHeller: Re-introduced flood insurance legislation w/ @SenatorTester to protect #NV consumers &amp; develop private market. More: htt… | LABEL: Insurance | PROBABILITY: 1.0\n",
      "TEXT: \"Without the #ACA I wouldnt be walking. Cause I had insurance for the first time, I'm here today.\" - Penny, Billings https://t.co/FPPrKlmKF0 | LABEL: Insurance | PROBABILITY: 1.0\n",
      "TEXT: RT @varietyofwords: Thanks, @SenatorTester. I appreciate you working to preserve insurance for cancer-surviving Montanans like my mom. http… | LABEL: Insurance | PROBABILITY: 1.0\n",
      "TEXT: RT @dodegaard: I will be one of those MT families without insurance if ACA is repealed. Pls show replacement before removing. @SteveDaines… | LABEL: Insurance | PROBABILITY: 1.0\n",
      "TEXT: The ACA has helped more Montanans access insurance than ever before. Learn #WhatsAtRisk if we repeal our progress:… https://t.co/61iDrYd2X3 | LABEL: Insurance | PROBABILITY: 1.0\n",
      "TEXT: RT @Newstalk730: Your Health Care Insurance Premiums Might be going up Senator Tester Holds Blue Cross Blue Shield Accountable for... https… | LABEL: Insurance | PROBABILITY: 1.0\n",
      "TEXT: Because of the ACA and Medicaid Expansion more Montanans have insurance than ever before. #mtpol  https://t.co/309KYJVcjp | LABEL: Insurance | PROBABILITY: 1.0\n",
      "TEXT: Make sure you sign up for health insurance today in order to be covered on Jan. 1st. #GetCovered https://t.co/WKMRIumCXB | LABEL: Insurance | PROBABILITY: 1.0\n",
      "TEXT: If you qualify for health insurance because of Medicaid expansion, make sure you sign up for coverage today. #mtpol https://t.co/pUsBhYW9EU | LABEL: Insurance | PROBABILITY: 1.0\n",
      "TEXT: Today 70,000 low-income Montanans now have access to health insurance because of Medicaid expansion. #mtpol https://t.co/B8847GYjVV | LABEL: Insurance | PROBABILITY: 1.0\n",
      "TEXT: Montana has the 2nd highest rate of folks who re-enrolled for health insurance under Obamacare in the nation. #mtpol http://t.co/zldDReANaj | LABEL: Insurance | PROBABILITY: 1.0\n",
      "TEXT: Today Montana is a healthier state because more hard working Montanans now have access to health insurance. #mtpol http://t.co/eu5XYqToXC | LABEL: Insurance | PROBABILITY: 1.0\n",
      "TEXT: We need to bring more accountability &amp; transparency to the international #insurance process. #Fed @USTreasury @WSJ http://t.co/YeIkXgrhKX | LABEL: Insurance | PROBABILITY: 1.0\n",
      "TEXT: MT: @mikedennison: #ACA signup #'s out today: MT had 22,600 people buy health insurance on the exchange. #GetCovered #mtpol #mtnews | LABEL: Insurance | PROBABILITY: 1.0\n",
      "TEXT: Today the Senate passed my bill to increase #insurance market options and consumer choice. Read more here: http://t.co/uc0gU7Ou3x #mtpol | LABEL: Insurance | PROBABILITY: 1.0\n",
      "\n",
      "---USER: 242555999---\n",
      "TOTAL # OF TWEETS: 3207\n",
      "\n",
      "TEXT: I'm proud to #StandWithGavin &amp; transgender students across America like him who deserve fair treatment in school. https://t.co/Ds4K52L5lD | LABEL: Pharmaceuticals/Health Products | PROBABILITY: 1.0\n",
      "TEXT: Glad we passed the #CuresAct to fund opioid addiction prevention &amp; treatment in hard-hit states like Rhode Island https://t.co/2Hdkw50dG1 | LABEL: Pharmaceuticals/Health Products | PROBABILITY: 1.0\n",
      "TEXT: .@ALZReadiness Thank you for your work! I’ll keep fighting to increase Alzheimer’s research funding and to improve treatment. | LABEL: Pharmaceuticals/Health Products | PROBABILITY: 1.0\n",
      "TEXT: The violent treatment of protesters at the Dakota Access Pipeline is appalling. @TheJusticeDept must intervene &amp; put an end to the violence. | LABEL: Pharmaceuticals/Health Products | PROBABILITY: 1.0\n",
      "TEXT: Thanks @ACSCANRI for meeting w/ me on #CancerLobbyDay to discuss the need to invest in cancer treatment &amp; prevention https://t.co/ht0ZeaAGMk | LABEL: Pharmaceuticals/Health Products | PROBABILITY: 1.0\n",
      "TEXT: RT @LymphedemaACT1: Thank you @SenWhitehouse for cosponsoring S2373 #Lymphedema Treatment Act! We appreciate your support! | LABEL: Pharmaceuticals/Health Products | PROBABILITY: 1.0\n",
      "TEXT: Headed to #Burrillville today to discuss drug #addiction, #RI's #overdose crisis and what we can do to provide #treatment, #recovery, &amp; hope | LABEL: Pharmaceuticals/Health Products | PROBABILITY: 1.0\n",
      "\n",
      "---USER: 202206694---\n",
      "TOTAL # OF TWEETS: 3197\n",
      "\n",
      "TEXT: RT @SenateRPC: 17 of 23 Obamacare co-ops have failed, leaving nearly 1 million people without insurance. https://t.co/pMn6ciddAI https://t.… | LABEL: Insurance | PROBABILITY: 1.0\n",
      "TEXT: Judge Skavdahl’s ruling should be upheld—Wyo &amp; other energy states—not Washington—are best prepared to regulate oil &amp; natural gas production | LABEL: Oil & Gas | PROBABILITY: 1.0\n",
      "TEXT: RT @SenateGOP: .@SenJohnBarrasso: Even @NYTimes is reporting that #Obamacare is second-class insurance. https://t.co/iLXEuaV0QT\n",
      "https://t.c… | LABEL: Insurance | PROBABILITY: 1.0\n",
      "TEXT: RT @Senate_RPC: \"'[Insurance] companies either have to raise their prices significantly or drop out,' said @SenJohnBarrasso.\" https://t.co/… | LABEL: Insurance | PROBABILITY: 1.0\n",
      "TEXT: Today’s @BLMNational decision is a transparent effort to drive oil and natural gas production off federal land. https://t.co/kiqHNH9D95 | LABEL: Oil & Gas | PROBABILITY: 1.0\n",
      "TEXT: Congress must take action to increase the pace of forest treatment to restore forest health and reduce the severity and size of #wildfires. | LABEL: Pharmaceuticals/Health Products | PROBABILITY: 1.0\n",
      "TEXT: #Obamcare has given people fewer choices, more powerful insurance companies, higher deductibles &amp; higher premiums. https://t.co/BbJTBrnSeK | LABEL: Insurance | PROBABILITY: 1.0\n",
      "TEXT: LIVE: \"20,000 people in Michigan are looking at the prospect of their insurance costing 38% more next yr.\" #Obamacare http://t.co/rnOofbUR8B | LABEL: Insurance | PROBABILITY: 1.0\n",
      "TEXT: Americans are facing an avg. insurance premium increase of 21% this year. Watch my speech on the skyrocketing costs http://t.co/EUUM21OrVf | LABEL: Insurance | PROBABILITY: 1.0\n",
      "TEXT: RT @SenatorIsakson: Co-sponsored bill w/@OrrinHatch &amp; @SenJohnBarrasso to eliminate another burdensome #Obamacare insurance tax: http://t.c… | LABEL: Insurance | PROBABILITY: 1.0\n",
      "TEXT: .@SenOrrinHatch &amp; I reintroduced bill today to save jobs &amp; help families by repealing Obamacare health insurance tax. http://t.co/cRxBhBroFV | LABEL: Insurance | PROBABILITY: 1.0\n",
      "TEXT: Since #Obamacare launched, millions have seen their coverage canceled, premiums skyrocket &amp; insurance denied by health care providers. | LABEL: Insurance | PROBABILITY: 1.0\n",
      "TEXT: Women in WY, NC &amp; AR share accounts of how #Obamacare forces them to pay more for insurance they don’t need or want. http://t.co/aWSHo4Ivme | LABEL: Insurance | PROBABILITY: 1.0\n",
      "TEXT: RT @SenJohnMcCain: Intro'd bill to fund #wildfire suppression &amp; boost forest treatment w/ @JeffFlake &amp; @SenJohnBarrasso: http://t.co/eiLNNH… | LABEL: Pharmaceuticals/Health Products | PROBABILITY: 1.0\n",
      "TEXT: #Obamacare opens door to fraud. @NYTimes: Eligibility for Health Insurance Was Not Properly Checked, Audit Finds http://t.co/5PGrO5lFEP | LABEL: Insurance | PROBABILITY: 1.0\n",
      "TEXT: #POTUS is out of touch w/Americans who've lost their doctor, their insurance &amp; watched their premiums spike all because of this failing law. | LABEL: Insurance | PROBABILITY: 1.0\n",
      "TEXT: RT @Senate_RPC: #TBT Democrats Knew Millions Couldn’t Keep Insurance Plan http://t.co/cMium4ZWMC | LABEL: Insurance | PROBABILITY: 1.0\n",
      "TEXT: #POTUS understands his party won’t stay in power if more Americans have their insurance cancelled due to his failing health care law. | LABEL: Insurance | PROBABILITY: 1.0\n",
      "TEXT: While this may be a temp. break for employers—American families will still be forced to prove they have expensive, gov’t mandated insurance. | LABEL: Insurance | PROBABILITY: 1.0\n",
      "TEXT: After forcing so many to buy insurance through the government, Admin has responsibility of safeguarding Americans’ private information. | LABEL: Insurance | PROBABILITY: 1.0\n",
      "TEXT: Now that the President understands insurance is complicated, he doesn't think it was such a bad idea. | LABEL: Insurance | PROBABILITY: 1.0\n",
      "TEXT: Now same law that’s caused millions of Americans to lose their health insurance is causing them to lose their doctors http://t.co/X6amqMACoD | LABEL: Insurance | PROBABILITY: 1.0\n",
      "TEXT: Updated cancellation map from @Senate_RPC. More than 4.7 million health insurance cancellations in 32 states. http://t.co/tcpZvFDp2m | LABEL: Insurance | PROBABILITY: 1.0\n",
      "TEXT: RT @SenDeanHeller: More than 4.2 million Americans have received health insurance cancellations via @Senate_RPC http://t.co/J8QDWhoalm | LABEL: Insurance | PROBABILITY: 1.0\n",
      "TEXT: RT @JohnBoozman: The President's trying to shift blame for cancellations to the insurance companies. Only real fix is repeal &amp; replace http… | LABEL: Insurance | PROBABILITY: 1.0\n",
      "TEXT: RT @Senate_RPC: [New from RPC] Democrats Double Down on Dishonesty. The truth about Obama admin rule causing insurance cancellations: http:… | LABEL: Insurance | PROBABILITY: 1.0\n",
      "TEXT: RT @SenRandPaul: 10x more Kentuckians have lost health insurance than have gained it from #Obamacare http://t.co/BXTepSnTv2 | LABEL: Insurance | PROBABILITY: 1.0\n",
      "TEXT: RT @RoyBlunt: Only six people enrolled in health insurance via #Obamacare exchanges on the website’s first day. http://t.co/Cr9L0qvc9n | LABEL: Insurance | PROBABILITY: 1.0\n",
      "TEXT: Wyoming’s Insurance Commissioner: \"Any of these plans that are cancelling—they wouldn't be withdrawing if not for the Affordable Care Act.\" | LABEL: Insurance | PROBABILITY: 1.0\n",
      "TEXT: In Wyoming, over 2,600 health insurance policies will be cancelled due to #Obamacare http://t.co/34fsAUyyHH #BrokenPromises | LABEL: Insurance | PROBABILITY: 1.0\n",
      "TEXT: Only IF the White House likes your insurance, you can keep it.  RT @Sacbee_News GOP says Obama broke promise... http://t.co/1GbdRHKUej | LABEL: Insurance | PROBABILITY: 1.0\n",
      "TEXT: RT @SenPatRoberts: .@NBCNews reports Obama admin knew millions could not keep health insurance #MoreThanAWebsite http://t.co/GqTjIDNEiE htt… | LABEL: Insurance | PROBABILITY: 1.0\n",
      "TEXT: Even Wyoming’s own Insurance Commissioner has been unable to personally register despite trying every day http://t.co/7NqiDGRjkI #Obamacare | LABEL: Insurance | PROBABILITY: 1.0\n",
      "TEXT: By the time they fix this tech disaster—many Americans will already be taxed for insurance they couldn't even sign up for online. | LABEL: Insurance | PROBABILITY: 1.0\n",
      "TEXT: RT @SenJohnThune: In S.D., just 21 sign up for #ObamaCare health insurance exchange. @argusleader http://t.co/G2ZCtIXdj0 #trainwreck | LABEL: Insurance | PROBABILITY: 1.0\n",
      "TEXT: Why is Admin insisting on fining people w/out insurance—even though they can’t sign up on the website successfully? http://t.co/pllcIyxU1O | LABEL: Insurance | PROBABILITY: 1.0\n",
      "TEXT: Under #Obamacare people aren’t just losing their insurance—it's affecting their jobs &amp; it's affecting their paychecks http://t.co/NBaXFE4mpq | LABEL: Insurance | PROBABILITY: 1.0\n",
      "TEXT: “Another year, another round of exaggeration from President…” @AP FACT CHECK: Obama spins health insurance rebates http://t.co/vs2mojUC8X | LABEL: Insurance | PROBABILITY: 1.0\n",
      "TEXT: About to start press conf with @SenOrrinHatch &amp; small business owners to talk about the need to repeal health insurance tax #HIT #NFIB | LABEL: Insurance | PROBABILITY: 1.0\n",
      "TEXT: Under #Obamacare, young Americans are forced to pay more for health insurance, so someone else might pay less http://t.co/K9ezIQCURo | LABEL: Insurance | PROBABILITY: 1.0\n",
      "TEXT: POTUS needs to work w/Congress to stop #IRS overreach &amp; take away agency’s authority over Americans' health insurance http://t.co/tYPZQ8dbQg | LABEL: Insurance | PROBABILITY: 1.0\n",
      "TEXT: RT @nielslesniewski: Sen. Barrasso says HHS Secretary Kathleen Sebelius is engaging in the \"Sebelius shakedown\" of health insurance compani… | LABEL: Insurance | PROBABILITY: 1.0\n",
      "TEXT: In article, @WashingtonPost highlights @SenOrrinHatch &amp; my bill to repeal health insurance tax included in #Obamacare http://t.co/Gf57rk1kwN | LABEL: Insurance | PROBABILITY: 1.0\n",
      "TEXT: .@WashingtonPost: “Health Insurance Tax ‘Scares the Daylights’ out of some small business owners” http://t.co/Gf57rk1kwN #Obamacare | LABEL: Insurance | PROBABILITY: 1.0\n",
      "TEXT: RT @Senate_RPC: \"Millions will pay more for health insurance, lose their coverage, or have their hours of work cut back. \" #Obamacare http:… | LABEL: Insurance | PROBABILITY: 1.0\n",
      "TEXT: RT @Senate_RPC: CNN: \"Most individual health insurance isn't good enough for Obamacare\" http://t.co/O5pLNQET3S | LABEL: Insurance | PROBABILITY: 1.0\n",
      "TEXT: RT @Senate_RPC: @thehill \"GOP senators introduce bill to repeal Obama health law's insurance tax\" @GOPSenFinance @SenJohnBarrasso http:/ ... | LABEL: Insurance | PROBABILITY: 1.0\n",
      "TEXT: &gt;60,000 WY #smallbusinesses can't afford another tax. Jobs &amp; Premium Protection Act repeals health insurance tax #HIT http://t.co/14HLqiKXmB | LABEL: Insurance | PROBABILITY: 1.0\n",
      "TEXT: Joined @SenOrrinHatch in intro. bill to eliminate job-crushing #Obamacare health insurance tax on #smallbusinesses. http://t.co/8VW1bZn0FQ | LABEL: Insurance | PROBABILITY: 1.0\n",
      "TEXT: Joined @SenOrrinHatch &amp; 29 other senators in calling on President to not give unions special treatment under #Obamacare http://t.co/eA8WTh9A | LABEL: Pharmaceuticals/Health Products | PROBABILITY: 1.0\n",
      "TEXT: RT @GOPSenFinance: New study shows younger Americans will see insurance premiums going up by as much as 42%: http://t.co/dbZrgcvg #ObamaCare | LABEL: Insurance | PROBABILITY: 1.0\n",
      "TEXT: @AP reports ~ 6 mil Americans will have to pay tax penalty for not getting insurance once #Obamacare is fully in place http://t.co/ftUTaN4Q | LABEL: Insurance | PROBABILITY: 1.0\n",
      "TEXT: @WashingtonPost #FactChecker Gives 3 Pinocchios to President Obama’s claim that insurance premiums ‘will go down’ http://t.co/mVJWL2WL | LABEL: Insurance | PROBABILITY: 1.0\n",
      "TEXT: Gave 2nd Opinion speech on how under Obamacare college students face sharply higher insurance premiums or lose coverage http://t.co/lFZWR1Cn | LABEL: Insurance | PROBABILITY: 1.0\n",
      "TEXT: WH held event on college costs—Didn’t level w/students on how #Obamacare causes colleges to drop their insurance http://t.co/jS2EwhGL @WSJ | LABEL: Insurance | PROBABILITY: 1.0\n",
      "TEXT: As opposition 2 Obamacare grows, so do costs—Costs 4 high-risk insurance pools’ enrollees expected 2 double #2ndOpinion http://t.co/je7qEAfE | LABEL: Insurance | PROBABILITY: 1.0\n",
      "TEXT: RT @Senate_RPC: Obama administration says costs for Obamacare's high-risk insurance pools to \"more than double initial predictions.\" htt ... | LABEL: Insurance | PROBABILITY: 1.0\n",
      "TEXT: Today, Sen @OrrinHatch & I intro bill to overturn Obamacare’s health insurance tax, save jobs & block rising premiums http://t.co/jZXyYGk7 | LABEL: Insurance | PROBABILITY: 1.0\n",
      "\n",
      "---USER: 264219447---\n",
      "TOTAL # OF TWEETS: 3114\n",
      "\n",
      "TEXT: RT @POTUS: The time has come to give Americans the freedom to purchase health insurance across state lines! #JointAddress | LABEL: Insurance | PROBABILITY: 1.0\n",
      "TEXT: Enjoyed speaking on the Congressional update panel during the @OleMissRebels Insurance Symposium today in #Oxford! https://t.co/nRAoTsgBde | LABEL: Insurance | PROBABILITY: 1.0\n",
      "TEXT: Despite #Obamacare’s goal of providing affordable health-care, insurance premiums are rising: http://t.co/HjqzZETJYJ | LABEL: Insurance | PROBABILITY: 1.0\n",
      "TEXT: Visited #Ingalls Shipbuilding today in Pascagoula. Great view of newly constructed vessels in the #shipyard: http://t.co/qhwIQnHLAu | LABEL: Sea Transport | PROBABILITY: 1.0\n",
      "TEXT: In this week's #WickerReport:  Flood Insurance Bill Would Protect Many Mississippi Homeowners and Businesses http://t.co/JENK2dfeOQ | LABEL: Insurance | PROBABILITY: 1.0\n",
      "TEXT: POTUS just signed the flood insurance bill into law. Legislation provides relief for families and biz across MS: http://t.co/OjQs6I5IbT | LABEL: Insurance | PROBABILITY: 1.0\n",
      "TEXT: This flood insurance bill will provide much-needed relief for families and businesses across Mississippi: http://t.co/OjQs6I5IbT #FixFlood | LABEL: Insurance | PROBABILITY: 1.0\n",
      "TEXT: House votes to provide relief to homeowners and businesses from drastic flood insurance premium hikes: http://t.co/ztFEuJtdoi #FixFlood | LABEL: Insurance | PROBABILITY: 1.0\n",
      "TEXT: Draconian premiums are an unworkable and unrealistic approach. I voted today for flood insurance reform. http://t.co/i0MqupuZZq #FixFlood | LABEL: Insurance | PROBABILITY: 1.0\n",
      "TEXT: I just voted in favor of moving forward with the flood insurance reform bill.  #FixFlood | LABEL: Insurance | PROBABILITY: 1.0\n",
      "TEXT: In today's @WSJ: A Fairer, Better Flood-Insurance Plan: http://t.co/20iEwIBx83 | LABEL: Insurance | PROBABILITY: 1.0\n",
      "TEXT: Watch Live: I'm about to go on the senate floor to call on immediate flood insurance reform. http://t.co/oU67QfUL58  #FixFlood | LABEL: Insurance | PROBABILITY: 1.0\n",
      "TEXT: In this week's #WickerReport: Canceled insurance plans, higher premiums add to list of Obama’s broken promises: http://t.co/mBI9NCyoGB | LABEL: Insurance | PROBABILITY: 1.0\n",
      "TEXT: Enactment of a 5 yr. reauth. of National Flood Insurance Program has important reforms for Mississippians. Read more:  http://t.co/27cAb16c. | LABEL: Insurance | PROBABILITY: 1.0\n",
      "TEXT: RT @SenThadCochran: Worked with @SenatorWicker to get good things for Mississippi &amp; nation in highway-flood insurance bill: http://t ... | LABEL: Insurance | PROBABILITY: 1.0\n",
      "TEXT: I was pleased that my flood insurance reform bill, the COASTAL Act, received the endorsement of @heartlandinst. http://bit.ly/kZIe7K | LABEL: Insurance | PROBABILITY: 1.0\n",
      "TEXT: Please read my weekly column on why flood insurance reforms are necessary: http://on.fb.me/kfPMyr. | LABEL: Insurance | PROBABILITY: 1.0\n",
      "TEXT: Today, I introduced the COASTAL Act to reform NFIP and provide greater certainty to homeowners & insurance market. http://1.usa.gov/iC7hdz | LABEL: Insurance | PROBABILITY: 1.0\n",
      "\n",
      "---USER: 76649729---\n",
      "TOTAL # OF TWEETS: 3230\n",
      "\n",
      "TEXT: Alexander: Secretary Price is taking an important step to begin stabilizing collapsing individual insurance market https://t.co/cUxrwMuIGp | LABEL: Insurance | PROBABILITY: 1.0\n",
      "TEXT: Sen. Alexander &amp; Corker introduced a bill to rescue Americans with zero options for insurance on the ACA exchanges https://t.co/PiMgFPpIo0 | LABEL: Insurance | PROBABILITY: 1.0\n",
      "TEXT: It’s a near certainty there will be zero insurance options on exchange for 40,000 Tennesseans in Knoxville area in 2018 | LABEL: Insurance | PROBABILITY: 1.0\n",
      "TEXT: Bill allows Americans w/ subsidies -- if no insurance available on exchange next yr-- to buy any state-approved insurance off of exchange | LABEL: Insurance | PROBABILITY: 1.0\n",
      "TEXT: TUNE IN NOW: Sen. Alexander speaking on bill to address emergency on insurance exchanges in TN, other states: https://t.co/ABXP4SxvMz | LABEL: Insurance | PROBABILITY: 1.0\n",
      "TEXT: Tune in at 4:15 -- @SenAlexander speaks on floor about bill to rescue Americans w/ zero insurance options on exchan… https://t.co/CKcDDaHWTu | LABEL: Insurance | PROBABILITY: 1.0\n",
      "TEXT: Alexander, @SenBobCorker intro bill to rescue Americans with zero options for insurance on the ACA exchanges in 2018. | LABEL: Insurance | PROBABILITY: 1.0\n",
      "TEXT: “230,000 Tennesseans …will likely have zero health insurance options in 2018 if Congress does not act soon\" on ACA https://t.co/qfd7Iwe3OL | LABEL: Insurance | PROBABILITY: 1.0\n",
      "TEXT: RT @Tennessean: .@SenAlexander: Give Americans more choices of lower-cost insurance by moving more health care decisions to states https://… | LABEL: Insurance | PROBABILITY: 1.0\n",
      "TEXT: Alexander: House bill would help 40,000 Tennesseans who may otherwise have zero Obamacare insurance options next yr. https://t.co/sWpwhcaBM4 | LABEL: Insurance | PROBABILITY: 1.0\n",
      "TEXT: RT @mcollinsNEWS: TN insurance commissioner tells Senate cmte states need more flexibility to regulate individual market. @knoxnews @memphi… | LABEL: Insurance | PROBABILITY: 1.0\n",
      "TEXT: Sen. Alexander: Without quick action, many of these 18 million Americans may have no choices for insurance next year | LABEL: Insurance | PROBABILITY: 1.0\n",
      "TEXT: Sen. Alexander: 18 mill Americans in individual insurance market, 11 mill in exchange--for these people, there’s an #Obamacare emergency | LABEL: Insurance | PROBABILITY: 1.0\n",
      "TEXT: Sen. Alexander: TN state insurance commissioner in August → the Tennessee #Obamacare exchange “very near collapse” | LABEL: Insurance | PROBABILITY: 1.0\n",
      "TEXT: Sen. Alexander: Second, build better systems providing Americans with more choices of insurance that cost less | LABEL: Insurance | PROBABILITY: 1.0\n",
      "TEXT: Sen. Alexander:  First, offer a rescue plan so the 11 million Americans who buy insurance now on exchanges can continue to do so… (1/2) | LABEL: Insurance | PROBABILITY: 1.0\n",
      "TEXT: According to the Tennessee insurance commissioner, the #Obamacare insurance market in TN is “very near collapse.” | LABEL: Insurance | PROBABILITY: 1.0\n",
      "TEXT: On @Hallerin w George Korda, Alexander says Republicans would like to give Tennesseans &amp; Americans more choices of low cost health insurance | LABEL: Insurance | PROBABILITY: 1.0\n",
      "TEXT: RT @GOPHELP: .@SenAlexander: Let’s talk about the 7,800 very sick kids who receive treatment for rare pediatric cancers @StJude | LABEL: Pharmaceuticals/Health Products | PROBABILITY: 1.0\n",
      "TEXT: RT @GOPHELP: .@SenAlexander’s emergency, 1-year bill will allow states to offer Americans more options for health insurance https://t.co/YF… | LABEL: Insurance | PROBABILITY: 1.0\n",
      "TEXT: We may soon have a situation where no insurance company is willing to sell insurance on an #Obamacare exchange | LABEL: Insurance | PROBABILITY: 1.0\n",
      "TEXT: This legislation will do 2 things for the nearly 11 million Americans who buy health insurance on the #Obamacare exchanges | LABEL: Insurance | PROBABILITY: 1.0\n",
      "TEXT: You may be eligible for an #Obamacare subsidy..but there’s also a good chance the insurance you currently have may be gone by November, | LABEL: Insurance | PROBABILITY: 1.0\n",
      "TEXT: According to Avalere Health, Americans buying insurance in 1/3 of #Obamacare exchange regions next yr may have only 1 insurer to choose from | LABEL: Insurance | PROBABILITY: 1.0\n",
      "TEXT: Today, an alarming number of health insurance companies are leaving #Obamacare exchanges | LABEL: Insurance | PROBABILITY: 1.0\n",
      "TEXT: RT @GOPHELP: #CARA provides TN w/ grants to support education, prevention, treatment &amp; recovery efforts: https://t.co/tZaBm7karH | LABEL: Pharmaceuticals/Health Products | PROBABILITY: 1.0\n",
      "TEXT: 1 in 5 adults in this country suffers from a mental illness &amp; nearly 60% aren’t receiving the treatment they need: https://t.co/TyQLde8KPV | LABEL: Pharmaceuticals/Health Products | PROBABILITY: 1.0\n",
      "TEXT: Introduced bill w/ @SenOrrinHatch to repeal #Obamacare individual mandate that forces Americans to buy insurance http://t.co/hCQiU7uVPS | LABEL: Insurance | PROBABILITY: 1.0\n",
      "TEXT: READ-IN @WashTimes: Study shows avg health insurance premiums have drastically increased under #Obamacare http://t.co/KUjoSmQTQB | LABEL: Insurance | PROBABILITY: 1.0\n",
      "TEXT: RT @GOPHELP: via @DailyCaller:@SenAlexander calls on HHS to release health insurance premiums to public the day they’re available http://t.… | LABEL: Insurance | PROBABILITY: 1.0\n",
      "TEXT: RT @GOPHELP: .@SenAlexander on administration changes to health insurance questions in Census Bureau's annual survey http://t.co/T9LfTXgngd | LABEL: Insurance | PROBABILITY: 1.0\n",
      "TEXT: RT @GOPHELP: .@WJHL-TN: TN small business owner says employee health insurance “basically tripling in price” #Obamacare #RepealReplace | LABEL: Insurance | PROBABILITY: 1.0\n",
      "TEXT: RT @MBJMemphis: Analysis from Sen. Alexander shows increases in health insurance rates in #Tennessee under the Affordable Care Act. http://… | LABEL: Insurance | PROBABILITY: 1.0\n",
      "TEXT: At HELP hearing, Alexander holds up iPad showing WH website STILL promises u can keep your insurance if u like it: http://t.co/WvzODVaTKR | LABEL: Insurance | PROBABILITY: 1.0\n",
      "TEXT: Says the website is the least of #Obamacare problems. Across TN, thousands of people are receiving cancellation notices of their insurance. | LABEL: Insurance | PROBABILITY: 1.0\n",
      "TEXT: RT @GOPHELP: VIDEO: @SenAlexander tells @FoxNews it’s unacceptable that millions have to buy insurance on website that won’t work http://t.… | LABEL: Insurance | PROBABILITY: 1.0\n",
      "TEXT: RT @GOPHELP: .@SenAlexander @SenatorEnzi &amp; colleagues to IRS: $100billion in #obamacare health insurance taxes deserve scrutiny http://t.co… | LABEL: Insurance | PROBABILITY: 1.0\n",
      "TEXT: RT @GOPHELP: .@SenAlexander: #Obamacare \"has destroyed a plan that is helping 16,000 Tennesseans afford health insurance\" http://t.co/9eDPz… | LABEL: Insurance | PROBABILITY: 1.0\n",
      "TEXT: RT @GOPHELP: Senators &amp; House R committee leaders press WH to release all health insurance premiums data http://t.co/dhXJ2u7JOF | LABEL: Insurance | PROBABILITY: 1.0\n",
      "TEXT: East Tennessee school district cuts hours/insurance for 18 employees because of #Obamacare. http://t.co/Mj79PUi4tK | LABEL: Insurance | PROBABILITY: 1.0\n",
      "TEXT: Alexander: HCR law a “ticking time bomb for states, college students, businesses, & people w employer health insurance” http://t.co/guTlDNUL | LABEL: Insurance | PROBABILITY: 1.0\n",
      "\n",
      "---USER: 555474658---\n",
      "TOTAL # OF TWEETS: 1813\n",
      "\n",
      "\n",
      "---USER: 19726613---\n",
      "TOTAL # OF TWEETS: 2053\n",
      "\n",
      "\n"
     ]
    }
   ],
   "source": [
    "locate_conflicts(good_user_ids[:20], True, industry_models['BDT'], 1.0)"
   ]
  },
  {
   "cell_type": "code",
   "execution_count": 46,
   "metadata": {
    "collapsed": false,
    "scrolled": true
   },
   "outputs": [
    {
     "name": "stdout",
     "output_type": "stream",
     "text": [
      "---USER: 43910797---\n",
      "TOTAL # OF TWEETS: 2865\n",
      "\n",
      "\n",
      "---USER: 117501995---\n",
      "TOTAL # OF TWEETS: 3199\n",
      "\n",
      "\n",
      "---USER: 109071031---\n",
      "TOTAL # OF TWEETS: 3220\n",
      "\n",
      "\n",
      "---USER: 249787913---\n",
      "TOTAL # OF TWEETS: 3238\n",
      "\n",
      "TEXT: These actions by @POTUS will expand access to treatment for prescription drug and #opioid addiction https://t.co/HpxAS1aZVA | LABEL: Pharmaceuticals/Health Products | PROBABILITY: 0.305329491434\n",
      "TEXT: To address this epidemic, we need to focus on prevention, treatment &amp; access to treatment for those suffering with substance abuse disorders | LABEL: Pharmaceuticals/Health Products | PROBABILITY: 0.375773427939\n",
      "\n",
      "---USER: 171598736---\n",
      "TOTAL # OF TWEETS: 3246\n",
      "\n",
      "\n"
     ]
    }
   ],
   "source": [
    "locate_conflicts(good_user_ids[:5], True, industry_models['LOG'], .3)"
   ]
  },
  {
   "cell_type": "markdown",
   "metadata": {},
   "source": [
    "## Debugging a few specific instances"
   ]
  },
  {
   "cell_type": "code",
   "execution_count": 47,
   "metadata": {
    "collapsed": false,
    "scrolled": true
   },
   "outputs": [
    {
     "ename": "KeyError",
     "evalue": "nan",
     "output_type": "error",
     "traceback": [
      "\u001b[0;31m---------------------------------------------------------------------------\u001b[0m",
      "\u001b[0;31mKeyError\u001b[0m                                  Traceback (most recent call last)",
      "\u001b[0;32m<ipython-input-47-b5af2e861e41>\u001b[0m in \u001b[0;36m<module>\u001b[0;34m()\u001b[0m\n\u001b[1;32m      3\u001b[0m     \u001b[0mtweets\u001b[0m\u001b[0;34m.\u001b[0m\u001b[0mappend\u001b[0m\u001b[0;34m(\u001b[0m\u001b[0mjson\u001b[0m\u001b[0;34m.\u001b[0m\u001b[0mloads\u001b[0m\u001b[0;34m(\u001b[0m\u001b[0mline\u001b[0m\u001b[0;34m)\u001b[0m\u001b[0;34m)\u001b[0m\u001b[0;34m\u001b[0m\u001b[0m\n\u001b[1;32m      4\u001b[0m \u001b[0mlen\u001b[0m\u001b[0;34m(\u001b[0m\u001b[0mtweets\u001b[0m\u001b[0;34m)\u001b[0m\u001b[0;34m\u001b[0m\u001b[0m\n\u001b[0;32m----> 5\u001b[0;31m \u001b[0milist\u001b[0m \u001b[0;34m=\u001b[0m \u001b[0mdonations_industry\u001b[0m\u001b[0;34m[\u001b[0m\u001b[0mdf\u001b[0m\u001b[0;34m[\u001b[0m\u001b[0mdf\u001b[0m\u001b[0;34m.\u001b[0m\u001b[0mtwitter_id\u001b[0m \u001b[0;34m==\u001b[0m \u001b[0;34m\"829794295355940866\"\u001b[0m\u001b[0;34m]\u001b[0m\u001b[0;34m[\u001b[0m\u001b[0;34m\"opensecrets\"\u001b[0m\u001b[0;34m]\u001b[0m\u001b[0;34m.\u001b[0m\u001b[0mvalues\u001b[0m\u001b[0;34m[\u001b[0m\u001b[0;36m0\u001b[0m\u001b[0;34m]\u001b[0m\u001b[0;34m]\u001b[0m\u001b[0;34m[\u001b[0m\u001b[0;34m'response'\u001b[0m\u001b[0;34m]\u001b[0m\u001b[0;34m[\u001b[0m\u001b[0;34m'industries'\u001b[0m\u001b[0;34m]\u001b[0m\u001b[0;34m[\u001b[0m\u001b[0;34m'industry'\u001b[0m\u001b[0;34m]\u001b[0m\u001b[0;34m\u001b[0m\u001b[0m\n\u001b[0m\u001b[1;32m      6\u001b[0m \u001b[0minames\u001b[0m \u001b[0;34m=\u001b[0m \u001b[0;34m[\u001b[0m\u001b[0mi\u001b[0m\u001b[0;34m[\u001b[0m\u001b[0;34m'@attributes'\u001b[0m\u001b[0;34m]\u001b[0m\u001b[0;34m[\u001b[0m\u001b[0;34m'industry_name'\u001b[0m\u001b[0;34m]\u001b[0m \u001b[0;32mfor\u001b[0m \u001b[0mi\u001b[0m \u001b[0;32min\u001b[0m \u001b[0milist\u001b[0m\u001b[0;34m]\u001b[0m\u001b[0;34m\u001b[0m\u001b[0m\n",
      "\u001b[0;31mKeyError\u001b[0m: nan"
     ]
    }
   ],
   "source": [
    "tweets = []\n",
    "for line in open(searched_tweets_location + \"829794295355940866\" + '.json','r'):\n",
    "    tweets.append(json.loads(line))\n",
    "len(tweets)\n",
    "ilist = donations_industry[df[df.twitter_id == \"829794295355940866\"][\"opensecrets\"].values[0]]['response']['industries']['industry'] \n",
    "inames = [i['@attributes']['industry_name'] for i in ilist]"
   ]
  },
  {
   "cell_type": "code",
   "execution_count": 48,
   "metadata": {
    "collapsed": false
   },
   "outputs": [
    {
     "data": {
      "text/html": [
       "<div>\n",
       "<table border=\"1\" class=\"dataframe\">\n",
       "  <thead>\n",
       "    <tr style=\"text-align: right;\">\n",
       "      <th></th>\n",
       "      <th>bioguide</th>\n",
       "      <th>name</th>\n",
       "      <th>opensecrets</th>\n",
       "      <th>rss_url</th>\n",
       "      <th>state</th>\n",
       "      <th>twitter</th>\n",
       "      <th>twitter_id</th>\n",
       "    </tr>\n",
       "  </thead>\n",
       "  <tbody>\n",
       "    <tr>\n",
       "      <th>535</th>\n",
       "      <td>S001202</td>\n",
       "      <td>Luther Strange</td>\n",
       "      <td>NaN</td>\n",
       "      <td>NaN</td>\n",
       "      <td>AL</td>\n",
       "      <td>SenatorStrange</td>\n",
       "      <td>829794295355940866</td>\n",
       "    </tr>\n",
       "  </tbody>\n",
       "</table>\n",
       "</div>"
      ],
      "text/plain": [
       "    bioguide            name opensecrets rss_url state         twitter  \\\n",
       "535  S001202  Luther Strange         NaN     NaN    AL  SenatorStrange   \n",
       "\n",
       "             twitter_id  \n",
       "535  829794295355940866  "
      ]
     },
     "execution_count": 48,
     "metadata": {},
     "output_type": "execute_result"
    }
   ],
   "source": [
    "df[df.twitter_id == \"829794295355940866\"]"
   ]
  },
  {
   "cell_type": "markdown",
   "metadata": {},
   "source": [
    "Just Luther Strange causing trouble again..."
   ]
  }
 ],
 "metadata": {
  "kernelspec": {
   "display_name": "Python 3",
   "language": "python",
   "name": "python3"
  },
  "language_info": {
   "codemirror_mode": {
    "name": "ipython",
    "version": 3
   },
   "file_extension": ".py",
   "mimetype": "text/x-python",
   "name": "python",
   "nbconvert_exporter": "python",
   "pygments_lexer": "ipython3",
   "version": "3.5.3"
  }
 },
 "nbformat": 4,
 "nbformat_minor": 0
}
