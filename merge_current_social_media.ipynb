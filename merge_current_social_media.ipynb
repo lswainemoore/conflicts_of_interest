{
 "cells": [
  {
   "cell_type": "markdown",
   "metadata": {},
   "source": [
    "# Merge together gathered data on social media accounts with opensecrets IDs\n",
    "### Big picture:\n",
    "We have two lists of current legislators which contain different sets of data, both from https://github.com/unitedstates/congress-legislators. We would like to match up these two lists, and store certain fields from both in a new flat file."
   ]
  },
  {
   "cell_type": "markdown",
   "metadata": {},
   "source": [
    "## Basic setup"
   ]
  },
  {
   "cell_type": "code",
   "execution_count": 2,
   "metadata": {
    "collapsed": false
   },
   "outputs": [],
   "source": [
    "import json\n",
    "import pandas as pd"
   ]
  },
  {
   "cell_type": "markdown",
   "metadata": {},
   "source": [
    "## Load data"
   ]
  },
  {
   "cell_type": "code",
   "execution_count": 3,
   "metadata": {
    "collapsed": true
   },
   "outputs": [],
   "source": [
    "with open(\"../data/congress-legislators/alternate_formats/legislators-social-media.json\",'r') as f:\n",
    "    social_media = json.load(f)\n",
    "with open(\"../data/congress-legislators/alternate_formats/legislators-current.json\",'r') as f:\n",
    "    current = json.load(f)"
   ]
  },
  {
   "cell_type": "markdown",
   "metadata": {},
   "source": [
    "## Construct dataframes containing relevant information for each file\n",
    "\n",
    "#### We'll match on bioguide id, so want that from both datasets\n",
    "Fields we also care about right now are name, state, opensecrets, bioguide, twitter, and twitter_id. We'll also get rss_url of the latest term if they have it."
   ]
  },
  {
   "cell_type": "markdown",
   "metadata": {},
   "source": [
    "From legislators-current, we need name, state, opensecrets, bioguide (and rss_url of last term if available)"
   ]
  },
  {
   "cell_type": "code",
   "execution_count": 19,
   "metadata": {
    "collapsed": false
   },
   "outputs": [],
   "source": [
    "\n",
    "current_df = pd.DataFrame()\n",
    "for i, c in enumerate(current):\n",
    "    d = {}\n",
    "    d['name'] = c['name']['official_full']\n",
    "    \n",
    "    # we use -1 as an index because that provides most recent office in list of offices\n",
    "    d['state'] = c['terms'][-1]['state']\n",
    "    \n",
    "    # not everyone has this field\n",
    "    try:\n",
    "        d['rss_url'] = c['terms'][-1]['rss_url']\n",
    "    except:\n",
    "        d['rss_url'] = None\n",
    "        \n",
    "    # this is true of literally one guy: Lucas Strange (fittingly)\n",
    "    try:\n",
    "        d['opensecrets'] = c['id']['opensecrets']\n",
    "    except:\n",
    "        d['opensecrets'] = None\n",
    "        \n",
    "    d['bioguide'] = c['id']['bioguide']\n",
    "    \n",
    "    # http://stackoverflow.com/questions/16597265/appending-to-an-empty-data-frame-in-pandas\n",
    "    current_df = current_df.append(d, ignore_index=True)"
   ]
  },
  {
   "cell_type": "code",
   "execution_count": 6,
   "metadata": {
    "collapsed": false
   },
   "outputs": [
    {
     "data": {
      "text/plain": [
       "{'facebook': 'RepDanDonovan',\n",
       " 'twitter': 'RepDanDonovan',\n",
       " 'twitter_id': 3353670647,\n",
       " 'youtube_id': 'UCT8-VskXvxCqDuSGzR5sWWg'}"
      ]
     },
     "execution_count": 6,
     "metadata": {},
     "output_type": "execute_result"
    }
   ],
   "source": [
    "social_media[471]['social']"
   ]
  },
  {
   "cell_type": "markdown",
   "metadata": {},
   "source": [
    "From legislators-social-media, we need bioguide, twitter, and twitter_id."
   ]
  },
  {
   "cell_type": "code",
   "execution_count": 7,
   "metadata": {
    "collapsed": false
   },
   "outputs": [
    {
     "name": "stdout",
     "output_type": "stream",
     "text": [
      "46\n",
      "93\n",
      "264\n",
      "303\n",
      "306\n",
      "382\n",
      "388\n",
      "520\n",
      "531\n"
     ]
    }
   ],
   "source": [
    "social_media_df = pd.DataFrame()\n",
    "for i, sm in enumerate(social_media):\n",
    "    d = {}\n",
    "    d['bioguide'] = sm['id']['bioguide']\n",
    "    \n",
    "    # not everyone has twitter accounts\n",
    "    try:\n",
    "        d['twitter'] = sm['social']['twitter']\n",
    "        d['twitter_id'] = str(sm['social']['twitter_id'])\n",
    "    # print the index of the people who don't have twitter\n",
    "    except:\n",
    "        d['twitter'] = None\n",
    "        d['twitter_id'] = None\n",
    "        print(i)\n",
    "    \n",
    "    # http://stackoverflow.com/questions/16597265/appending-to-an-empty-data-frame-in-pandas\n",
    "    social_media_df = social_media_df.append(d, ignore_index=True)"
   ]
  },
  {
   "cell_type": "markdown",
   "metadata": {},
   "source": [
    "## Merge datasets on bioguide (left join)"
   ]
  },
  {
   "cell_type": "code",
   "execution_count": 8,
   "metadata": {
    "collapsed": false
   },
   "outputs": [],
   "source": [
    "merged = pd.merge(left=current_df, right=social_media_df, on='bioguide', how='left')"
   ]
  },
  {
   "cell_type": "markdown",
   "metadata": {},
   "source": [
    "## Write result"
   ]
  },
  {
   "cell_type": "code",
   "execution_count": 16,
   "metadata": {
    "collapsed": true
   },
   "outputs": [],
   "source": [
    "merged.to_csv(\"../data/lincoln/current_social_media.csv\", index=False)"
   ]
  }
 ],
 "metadata": {
  "kernelspec": {
   "display_name": "Python 3",
   "language": "python",
   "name": "python3"
  },
  "language_info": {
   "codemirror_mode": {
    "name": "ipython",
    "version": 3
   },
   "file_extension": ".py",
   "mimetype": "text/x-python",
   "name": "python",
   "nbconvert_exporter": "python",
   "pygments_lexer": "ipython3",
   "version": "3.5.3"
  }
 },
 "nbformat": 4,
 "nbformat_minor": 0
}
